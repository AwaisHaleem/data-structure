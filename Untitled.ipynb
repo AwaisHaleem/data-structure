{
 "cells": [
  {
   "cell_type": "code",
   "execution_count": 6,
   "id": "5e469a0b",
   "metadata": {},
   "outputs": [],
   "source": [
    "# no of vertices\n",
    "nV = 4\n",
    "INF = 999\n",
    "\n",
    "# Algorithm\n",
    "def floyd(G):\n",
    "    dist = list(map(lambda p: list(map(lambda q: q, p)), G))\n",
    "    \n",
    "    # adding vertices individually\n",
    "    for r in range(nV):\n",
    "        for p in range(nV):\n",
    "            for q in range(nV):\n",
    "                dist[p][q] = min(dist[p][q], dist[p][r] + dist[r][p])\n",
    "    sol(dist)\n",
    "    \n",
    "\n",
    "def sol(dist):\n",
    "    for p in range(nV):\n",
    "        for q in range(nV):\n",
    "            if dist[p][q] == INF:\n",
    "                print(\"INF\", end=\" \")\n",
    "            else:\n",
    "                print(dist[p][q], end=\" \")\n",
    "        print(\" \")\n",
    "        \n",
    "G = [[0, 5, INF, INF],\n",
    "         [50, 0, 15, 5],\n",
    "         [30, INF, 0, 15],\n",
    "         [15, INF, 5, 0]]"
   ]
  },
  {
   "cell_type": "code",
   "execution_count": 7,
   "id": "35bba7d5",
   "metadata": {},
   "outputs": [
    {
     "name": "stdout",
     "output_type": "stream",
     "text": [
      "0 0 0 0  \n",
      "0 0 0 0  \n",
      "0 0 0 0  \n",
      "0 0 0 0  \n"
     ]
    }
   ],
   "source": [
    "floyd(G)"
   ]
  },
  {
   "cell_type": "code",
   "execution_count": 8,
   "id": "f9a6b4d1",
   "metadata": {},
   "outputs": [
    {
     "name": "stdout",
     "output_type": "stream",
     "text": [
      "dist, /n [[0, 5, 999, 999], [50, 0, 15, 5], [30, 999, 0, 15], [15, 999, 5, 0]]\n",
      "0  5  15  10   \n",
      "20  0  10  5   \n",
      "30  35  0  15   \n",
      "15  20  5  0   \n"
     ]
    }
   ],
   "source": [
    "# Number of vertices\n",
    "nV = 4\n",
    "INF = 999\n",
    "\n",
    "# Algorithm \n",
    "def floyd(G):\n",
    "    dist = list(map(lambda p: list(map(lambda q: q, p)), G))\n",
    "    \n",
    "    # Adding vertices individually\n",
    "    for r in range(nV):\n",
    "        for p in range(nV):\n",
    "            for q in range(nV):\n",
    "                dist[p][q] = min(dist[p][q], dist[p][r] + dist[r][q])\n",
    "    sol(dist)\n",
    "\n",
    "# Printing the output\n",
    "def sol(dist):\n",
    "    for p in range(nV):\n",
    "        for q in range(nV):\n",
    "            if(dist[p][q] == INF):\n",
    "                print(\"INF\", end=\" \")\n",
    "            else:\n",
    "                print(dist[p][q], end=\"  \")\n",
    "        print(\" \")\n",
    "\n",
    "G = [[0, 5, INF, INF],\n",
    "         [50, 0, 15, 5],\n",
    "         [30, INF, 0, 15],\n",
    "         [15, INF, 5, 0]]\n",
    "floyd(G)"
   ]
  },
  {
   "cell_type": "code",
   "execution_count": null,
   "id": "130b7c35",
   "metadata": {},
   "outputs": [],
   "source": []
  }
 ],
 "metadata": {
  "kernelspec": {
   "display_name": "Python 3 (ipykernel)",
   "language": "python",
   "name": "python3"
  },
  "language_info": {
   "codemirror_mode": {
    "name": "ipython",
    "version": 3
   },
   "file_extension": ".py",
   "mimetype": "text/x-python",
   "name": "python",
   "nbconvert_exporter": "python",
   "pygments_lexer": "ipython3",
   "version": "3.9.7"
  }
 },
 "nbformat": 4,
 "nbformat_minor": 5
}
