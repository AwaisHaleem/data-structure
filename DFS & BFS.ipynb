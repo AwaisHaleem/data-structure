{
 "cells": [
  {
   "cell_type": "markdown",
   "id": "f435b93c",
   "metadata": {},
   "source": [
    "# <center> Breadth First Search </center>"
   ]
  },
  {
   "cell_type": "markdown",
   "id": "74fd652f",
   "metadata": {},
   "source": [
    "- Graph traversal\n",
    "- Graph search Algos\n",
    "- Similar to level order traversal in tree\n",
    "- Queue is used"
   ]
  },
  {
   "cell_type": "code",
   "execution_count": null,
   "id": "7bd733e9",
   "metadata": {},
   "outputs": [],
   "source": []
  },
  {
   "cell_type": "code",
   "execution_count": 6,
   "id": "bd8f56a2",
   "metadata": {},
   "outputs": [],
   "source": [
    "from queue import Queue\n",
    "\n",
    "adj_list = {\n",
    "    \"a\": [\"b\", \"d\"],\n",
    "    \"b\": [\"a\", \"c\"],\n",
    "    \"c\": [\"b\"],\n",
    "    \"d\": [\"a\", \"e\", \"f\"],\n",
    "    \"e\": [\"d\", \"f\", \"g\"],\n",
    "    \"f\": [\"d\", \"e\", \"h\"],\n",
    "    \"g\": [\"e\", \"h\"],\n",
    "    \"h\": [\"g\", \"f\"]\n",
    "}"
   ]
  },
  {
   "cell_type": "code",
   "execution_count": 16,
   "id": "7e78d0e6",
   "metadata": {},
   "outputs": [
    {
     "data": {
      "text/plain": [
       "['a', 'b', 'd', 'c', 'e', 'f', 'g', 'h']"
      ]
     },
     "execution_count": 16,
     "metadata": {},
     "output_type": "execute_result"
    }
   ],
   "source": [
    "visited = {}\n",
    "level = {}\n",
    "parent = {}\n",
    "bfs_travesal_output = []\n",
    "q = Queue()\n",
    "\n",
    "for node in adj_list.keys():\n",
    "    visited[node] = False\n",
    "    level[node] = -1\n",
    "    parent[node] = None\n",
    "    \n",
    "s = \"a\"\n",
    "\n",
    "q.put(s)\n",
    "visited[s] = True\n",
    "level[s] += 1\n",
    "\n",
    "while not q.empty():\n",
    "    item = q.get()\n",
    "    bfs_travesal_output.append(item)\n",
    "    \n",
    "    for element in adj_list[item]:\n",
    "        if visited[element] == False:\n",
    "            level[element] = level[item] + 1\n",
    "            q.put(element)\n",
    "            parent[element] = item            \n",
    "            visited[element] = True\n",
    "            \n",
    "bfs_travesal_output"
   ]
  },
  {
   "cell_type": "code",
   "execution_count": 17,
   "id": "e2da6996",
   "metadata": {},
   "outputs": [
    {
     "data": {
      "text/plain": [
       "{'a': 0, 'b': 1, 'c': 2, 'd': 1, 'e': 2, 'f': 2, 'g': 3, 'h': 3}"
      ]
     },
     "execution_count": 17,
     "metadata": {},
     "output_type": "execute_result"
    }
   ],
   "source": [
    "level"
   ]
  },
  {
   "cell_type": "markdown",
   "id": "272a061c",
   "metadata": {},
   "source": [
    "# <center> DFS </center>"
   ]
  },
  {
   "cell_type": "code",
   "execution_count": 20,
   "id": "89263a57",
   "metadata": {},
   "outputs": [],
   "source": [
    "adj_list = {\n",
    "    \"a\": [\"b\", \"c\"],\n",
    "    \"b\": [\"d\", \"e\"],\n",
    "    \"c\": [\"b\", \"f\"],\n",
    "    \"d\": [],\n",
    "    \"e\": [\"f\"],\n",
    "    \"f\": []\n",
    "}"
   ]
  },
  {
   "cell_type": "code",
   "execution_count": 26,
   "id": "1ce7a163",
   "metadata": {},
   "outputs": [
    {
     "data": {
      "text/plain": [
       "['a', 'b', 'c', 'd', 'e', 'f']"
      ]
     },
     "execution_count": 26,
     "metadata": {},
     "output_type": "execute_result"
    }
   ],
   "source": [
    "# required array and dictionary\n",
    "color = {} # W, G, B\n",
    "parent = {}\n",
    "trav_time = {} # [Start, End]\n",
    "dfs_traversal_output = []\n",
    "\n",
    "for node in adj_list.keys():\n",
    "    color[node] = \"w\"\n",
    "    parent[node] = None\n",
    "    trav_time[node] = [-1, -1]\n",
    "\n",
    "time = 0    \n",
    "def dfs_utils(u):\n",
    "    global time\n",
    "    color[u] = \"g\"\n",
    "    trav_time[u][0] = time\n",
    "    dfs_traversal_output.append(u)\n",
    "    \n",
    "    for v in adj_list:\n",
    "        if color[v] == \"w\":\n",
    "            parent[v] = u\n",
    "            dfs_utils(v)\n",
    "    color[u] = \"b\"\n",
    "    trav_time[u][1] = time\n",
    "    time += 1\n",
    "    \n",
    "dfs_utils(\"a\")\n",
    "dfs_traversal_output"
   ]
  },
  {
   "cell_type": "code",
   "execution_count": null,
   "id": "ecf8acfb",
   "metadata": {},
   "outputs": [],
   "source": []
  },
  {
   "cell_type": "code",
   "execution_count": null,
   "id": "59bc5b5c",
   "metadata": {},
   "outputs": [],
   "source": []
  }
 ],
 "metadata": {
  "kernelspec": {
   "display_name": "Python 3 (ipykernel)",
   "language": "python",
   "name": "python3"
  },
  "language_info": {
   "codemirror_mode": {
    "name": "ipython",
    "version": 3
   },
   "file_extension": ".py",
   "mimetype": "text/x-python",
   "name": "python",
   "nbconvert_exporter": "python",
   "pygments_lexer": "ipython3",
   "version": "3.9.7"
  }
 },
 "nbformat": 4,
 "nbformat_minor": 5
}
