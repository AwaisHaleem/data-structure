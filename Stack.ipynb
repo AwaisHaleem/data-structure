{
 "cells": [
  {
   "cell_type": "markdown",
   "id": "e3485df7",
   "metadata": {},
   "source": [
    "# <center> Stack <center>"
   ]
  },
  {
   "cell_type": "markdown",
   "id": "99bd7ea8",
   "metadata": {},
   "source": [
    "- Linear data structur\n",
    "- A list of elements in which a element may be inserted or deleted only at Top\n",
    "- Specialized data structure ADT\n",
    "- Unlike array, access of elements are restricted in stack\n",
    "- push & pop, FILO, LIFO\n",
    "- Examples: history of browser, ctrl+z"
   ]
  },
  {
   "cell_type": "code",
   "execution_count": 22,
   "id": "800befa0",
   "metadata": {},
   "outputs": [],
   "source": [
    "from collections import deque\n",
    "\n",
    "class Stack:\n",
    "    def __init__(self):\n",
    "        self.stack_deque = deque()\n",
    "    \n",
    "    def push(self, val):\n",
    "        self.stack_deque.append(val)\n",
    "    \n",
    "    def pop(self):\n",
    "        if(len(self.stack_deque) == 0):\n",
    "            return(\"Stack is empty\")\n",
    "        else:\n",
    "            return self.stack_deque.pop()\n",
    "        \n",
    "    def peek(self):\n",
    "        if(len(self.stack_deque) >0):\n",
    "            return self.stack_deque[-1]\n",
    "        else:\n",
    "            return \"Stack is Empty\"\n",
    "    \n",
    "    def is_empty(self):\n",
    "        return len(self.stack_deque)==0\n",
    "    \n",
    "    def size(self):\n",
    "        return len(self.stack_deque)\n",
    "    \n",
    "    def first_elemten(self):     # added to make the program\n",
    "        return self.stack_deque[0]"
   ]
  },
  {
   "cell_type": "code",
   "execution_count": 23,
   "id": "1a276c28",
   "metadata": {},
   "outputs": [],
   "source": [
    "s = Stack()"
   ]
  },
  {
   "cell_type": "code",
   "execution_count": 24,
   "id": "34d1597a",
   "metadata": {},
   "outputs": [
    {
     "data": {
      "text/plain": [
       "'Stack is Empty'"
      ]
     },
     "execution_count": 24,
     "metadata": {},
     "output_type": "execute_result"
    }
   ],
   "source": [
    "s.peek()"
   ]
  },
  {
   "cell_type": "code",
   "execution_count": 25,
   "id": "87a45b33",
   "metadata": {},
   "outputs": [
    {
     "data": {
      "text/plain": [
       "True"
      ]
     },
     "execution_count": 25,
     "metadata": {},
     "output_type": "execute_result"
    }
   ],
   "source": [
    "s.is_empty()"
   ]
  },
  {
   "cell_type": "code",
   "execution_count": 26,
   "id": "89050c7b",
   "metadata": {},
   "outputs": [
    {
     "data": {
      "text/plain": [
       "0"
      ]
     },
     "execution_count": 26,
     "metadata": {},
     "output_type": "execute_result"
    }
   ],
   "source": [
    "s.size()"
   ]
  },
  {
   "cell_type": "code",
   "execution_count": 27,
   "id": "589d9595",
   "metadata": {},
   "outputs": [],
   "source": [
    "s.push(9)"
   ]
  },
  {
   "cell_type": "code",
   "execution_count": 28,
   "id": "562df2a9",
   "metadata": {},
   "outputs": [
    {
     "data": {
      "text/plain": [
       "1"
      ]
     },
     "execution_count": 28,
     "metadata": {},
     "output_type": "execute_result"
    }
   ],
   "source": [
    "s.size()"
   ]
  },
  {
   "cell_type": "code",
   "execution_count": 29,
   "id": "80bbe306",
   "metadata": {},
   "outputs": [
    {
     "data": {
      "text/plain": [
       "9"
      ]
     },
     "execution_count": 29,
     "metadata": {},
     "output_type": "execute_result"
    }
   ],
   "source": [
    "s.peek()"
   ]
  },
  {
   "cell_type": "code",
   "execution_count": 30,
   "id": "a43bb545",
   "metadata": {},
   "outputs": [
    {
     "data": {
      "text/plain": [
       "9"
      ]
     },
     "execution_count": 30,
     "metadata": {},
     "output_type": "execute_result"
    }
   ],
   "source": [
    "s.pop()"
   ]
  },
  {
   "cell_type": "code",
   "execution_count": 31,
   "id": "9065988c",
   "metadata": {},
   "outputs": [
    {
     "data": {
      "text/plain": [
       "'Stack is empty'"
      ]
     },
     "execution_count": 31,
     "metadata": {},
     "output_type": "execute_result"
    }
   ],
   "source": [
    "s.pop()"
   ]
  },
  {
   "cell_type": "code",
   "execution_count": 32,
   "id": "70298a03",
   "metadata": {},
   "outputs": [],
   "source": [
    "s.push(7)\n",
    "s.push(8)\n",
    "s.push(6)"
   ]
  },
  {
   "cell_type": "code",
   "execution_count": 33,
   "id": "5b695115",
   "metadata": {},
   "outputs": [
    {
     "data": {
      "text/plain": [
       "3"
      ]
     },
     "execution_count": 33,
     "metadata": {},
     "output_type": "execute_result"
    }
   ],
   "source": [
    "\n",
    "s.size()"
   ]
  },
  {
   "cell_type": "code",
   "execution_count": 34,
   "id": "4d6bcc21",
   "metadata": {},
   "outputs": [
    {
     "data": {
      "text/plain": [
       "6"
      ]
     },
     "execution_count": 34,
     "metadata": {},
     "output_type": "execute_result"
    }
   ],
   "source": [
    "s.pop()"
   ]
  },
  {
   "cell_type": "code",
   "execution_count": 35,
   "id": "9b5a78c0",
   "metadata": {},
   "outputs": [
    {
     "ename": "TypeError",
     "evalue": "pop() takes 1 positional argument but 2 were given",
     "output_type": "error",
     "traceback": [
      "\u001b[1;31m---------------------------------------------------------------------------\u001b[0m",
      "\u001b[1;31mTypeError\u001b[0m                                 Traceback (most recent call last)",
      "\u001b[1;32m~\\AppData\\Local\\Temp/ipykernel_14284/2333762009.py\u001b[0m in \u001b[0;36m<module>\u001b[1;34m\u001b[0m\n\u001b[1;32m----> 1\u001b[1;33m \u001b[0ms\u001b[0m\u001b[1;33m.\u001b[0m\u001b[0mpop\u001b[0m\u001b[1;33m(\u001b[0m\u001b[1;36m0\u001b[0m\u001b[1;33m)\u001b[0m\u001b[1;33m\u001b[0m\u001b[1;33m\u001b[0m\u001b[0m\n\u001b[0m",
      "\u001b[1;31mTypeError\u001b[0m: pop() takes 1 positional argument but 2 were given"
     ]
    }
   ],
   "source": [
    "s.pop(0)"
   ]
  },
  {
   "cell_type": "code",
   "execution_count": 111,
   "id": "9b9de60f",
   "metadata": {},
   "outputs": [
    {
     "data": {
      "text/plain": [
       "7"
      ]
     },
     "execution_count": 111,
     "metadata": {},
     "output_type": "execute_result"
    }
   ],
   "source": [
    "s.pop()"
   ]
  },
  {
   "cell_type": "code",
   "execution_count": 112,
   "id": "07e02291",
   "metadata": {},
   "outputs": [
    {
     "data": {
      "text/plain": [
       "'Stack is empty'"
      ]
     },
     "execution_count": 112,
     "metadata": {},
     "output_type": "execute_result"
    }
   ],
   "source": [
    "s.pop()"
   ]
  },
  {
   "cell_type": "markdown",
   "id": "989778b0",
   "metadata": {},
   "source": [
    "# Stack Data Structure in use"
   ]
  },
  {
   "cell_type": "markdown",
   "id": "816c763a",
   "metadata": {},
   "source": [
    "#### Convert Infix Notaion to Postfix Notation"
   ]
  },
  {
   "cell_type": "code",
   "execution_count": 59,
   "id": "afc4053b",
   "metadata": {},
   "outputs": [],
   "source": [
    "def postfix(infix):\n",
    "    operators = [\"-\", \"+\",  \"/\", \"*\" ]\n",
    "    left_parenth = \"(\"\n",
    "    right_parenth = \")\"\n",
    "    \n",
    "    final_stack = []\n",
    "    ax_stack = []\n",
    "    ax_stack.append(left_parenth)\n",
    "    \n",
    "    infix = list(infix)\n",
    "    infix.append(right_parenth)\n",
    "    \n",
    "    while len(infix) > 0:\n",
    "        element = infix.pop(0)\n",
    "        \n",
    "        if element == left_parenth:\n",
    "            ax_stack.append(element)\n",
    "        \n",
    "        elif element == right_parenth:\n",
    "            while element != ax_stack[0] & len(ax_stack) > 0:\n",
    "                final_stack.append(ax_stack.pop(0))\n",
    "        \n",
    "        elif element in operators:\n",
    "            \n",
    "            if operators.index(element) < operators.index(ax_stack[0]) if ax_stack[0] in operators else ax_stack.append(element):\n",
    "                final_stack.append(ax_stack.pop(0))\n",
    "            else:\n",
    "                ax_stack.append(element)\n",
    "        else:\n",
    "            final_stack.append(element)\n",
    "    print(str(final_stack))"
   ]
  },
  {
   "cell_type": "code",
   "execution_count": 61,
   "id": "61cecbb3",
   "metadata": {},
   "outputs": [
    {
     "ename": "TypeError",
     "evalue": "unsupported operand type(s) for &: 'str' and 'int'",
     "output_type": "error",
     "traceback": [
      "\u001b[1;31m---------------------------------------------------------------------------\u001b[0m",
      "\u001b[1;31mTypeError\u001b[0m                                 Traceback (most recent call last)",
      "\u001b[1;32m~\\AppData\\Local\\Temp/ipykernel_14284/658973933.py\u001b[0m in \u001b[0;36m<module>\u001b[1;34m\u001b[0m\n\u001b[1;32m----> 1\u001b[1;33m \u001b[0mpostfix\u001b[0m\u001b[1;33m(\u001b[0m\u001b[1;34m\"A+((B+C)+(D+E))*F/G\"\u001b[0m\u001b[1;33m)\u001b[0m\u001b[1;33m\u001b[0m\u001b[1;33m\u001b[0m\u001b[0m\n\u001b[0m",
      "\u001b[1;32m~\\AppData\\Local\\Temp/ipykernel_14284/1406408250.py\u001b[0m in \u001b[0;36mpostfix\u001b[1;34m(infix)\u001b[0m\n\u001b[0;32m     18\u001b[0m \u001b[1;33m\u001b[0m\u001b[0m\n\u001b[0;32m     19\u001b[0m         \u001b[1;32melif\u001b[0m \u001b[0melement\u001b[0m \u001b[1;33m==\u001b[0m \u001b[0mright_parenth\u001b[0m\u001b[1;33m:\u001b[0m\u001b[1;33m\u001b[0m\u001b[1;33m\u001b[0m\u001b[0m\n\u001b[1;32m---> 20\u001b[1;33m             \u001b[1;32mwhile\u001b[0m \u001b[0melement\u001b[0m \u001b[1;33m!=\u001b[0m \u001b[0max_stack\u001b[0m\u001b[1;33m[\u001b[0m\u001b[1;36m0\u001b[0m\u001b[1;33m]\u001b[0m \u001b[1;33m&\u001b[0m \u001b[0mlen\u001b[0m\u001b[1;33m(\u001b[0m\u001b[0max_stack\u001b[0m\u001b[1;33m)\u001b[0m \u001b[1;33m>\u001b[0m \u001b[1;36m0\u001b[0m\u001b[1;33m:\u001b[0m\u001b[1;33m\u001b[0m\u001b[1;33m\u001b[0m\u001b[0m\n\u001b[0m\u001b[0;32m     21\u001b[0m                 \u001b[0mfinal_stack\u001b[0m\u001b[1;33m.\u001b[0m\u001b[0mappend\u001b[0m\u001b[1;33m(\u001b[0m\u001b[0max_stack\u001b[0m\u001b[1;33m.\u001b[0m\u001b[0mpop\u001b[0m\u001b[1;33m(\u001b[0m\u001b[1;36m0\u001b[0m\u001b[1;33m)\u001b[0m\u001b[1;33m)\u001b[0m\u001b[1;33m\u001b[0m\u001b[1;33m\u001b[0m\u001b[0m\n\u001b[0;32m     22\u001b[0m \u001b[1;33m\u001b[0m\u001b[0m\n",
      "\u001b[1;31mTypeError\u001b[0m: unsupported operand type(s) for &: 'str' and 'int'"
     ]
    }
   ],
   "source": [
    "postfix(\"A+((B+C)+(D+E))*F/G\")"
   ]
  },
  {
   "cell_type": "markdown",
   "id": "7caca24d",
   "metadata": {},
   "source": [
    "#### Convert Postfix to Infix"
   ]
  },
  {
   "cell_type": "code",
   "execution_count": 79,
   "id": "da7f481d",
   "metadata": {},
   "outputs": [],
   "source": [
    "def infix(postfix):\n",
    "    operators = [\"-\", \"+\",  \"/\", \"*\" ]\n",
    "    left_parenth = \"(\"\n",
    "    right_parenth = \")\"\n",
    "    \n",
    "    stack = []\n",
    "    \n",
    "    postfix = list(postfix)\n",
    "    postfix.append(right_parenth)\n",
    "    \n",
    "    while postfix[-1] != right_parenth:\n",
    "        element = postfix.pop()\n",
    "        if element not in operators:\n",
    "            stack.append(element)\n",
    "        elif element in operators:\n",
    "            a = stack.pop()\n",
    "            b = stack.pop()\n",
    "            stack.append(a)\n",
    "            stack.append(element)\n",
    "            stack.append(b)\n",
    "#     for i in len(stack):\n",
    "#         stack.pop\n",
    "    return \"\".join(stack)"
   ]
  },
  {
   "cell_type": "code",
   "execution_count": 80,
   "id": "728eb413",
   "metadata": {},
   "outputs": [
    {
     "data": {
      "text/plain": [
       "''"
      ]
     },
     "execution_count": 80,
     "metadata": {},
     "output_type": "execute_result"
    }
   ],
   "source": [
    "infix(\"ABC+DE+F*+G/+\")"
   ]
  },
  {
   "cell_type": "code",
   "execution_count": 74,
   "id": "5dd4ffb2",
   "metadata": {},
   "outputs": [],
   "source": [
    "m = list()"
   ]
  },
  {
   "cell_type": "code",
   "execution_count": 75,
   "id": "34718bac",
   "metadata": {},
   "outputs": [],
   "source": [
    "m.append(7)"
   ]
  },
  {
   "cell_type": "code",
   "execution_count": 76,
   "id": "859f9d3d",
   "metadata": {},
   "outputs": [
    {
     "data": {
      "text/plain": [
       "[7]"
      ]
     },
     "execution_count": 76,
     "metadata": {},
     "output_type": "execute_result"
    }
   ],
   "source": [
    "m"
   ]
  },
  {
   "cell_type": "code",
   "execution_count": 77,
   "id": "f0d7e629",
   "metadata": {},
   "outputs": [],
   "source": [
    "m.append(6)"
   ]
  },
  {
   "cell_type": "code",
   "execution_count": 78,
   "id": "e8801463",
   "metadata": {},
   "outputs": [
    {
     "data": {
      "text/plain": [
       "[7, 6]"
      ]
     },
     "execution_count": 78,
     "metadata": {},
     "output_type": "execute_result"
    }
   ],
   "source": [
    "m"
   ]
  },
  {
   "cell_type": "code",
   "execution_count": 82,
   "id": "28c675f2",
   "metadata": {},
   "outputs": [
    {
     "data": {
      "text/plain": [
       "7"
      ]
     },
     "execution_count": 82,
     "metadata": {},
     "output_type": "execute_result"
    }
   ],
   "source": [
    "m[0]"
   ]
  },
  {
   "cell_type": "code",
   "execution_count": 83,
   "id": "e4bb45de",
   "metadata": {},
   "outputs": [
    {
     "data": {
      "text/plain": [
       "6"
      ]
     },
     "execution_count": 83,
     "metadata": {},
     "output_type": "execute_result"
    }
   ],
   "source": [
    "m[-1]"
   ]
  },
  {
   "cell_type": "code",
   "execution_count": null,
   "id": "7def83e5",
   "metadata": {},
   "outputs": [],
   "source": []
  }
 ],
 "metadata": {
  "kernelspec": {
   "display_name": "Python 3 (ipykernel)",
   "language": "python",
   "name": "python3"
  },
  "language_info": {
   "codemirror_mode": {
    "name": "ipython",
    "version": 3
   },
   "file_extension": ".py",
   "mimetype": "text/x-python",
   "name": "python",
   "nbconvert_exporter": "python",
   "pygments_lexer": "ipython3",
   "version": "3.9.7"
  }
 },
 "nbformat": 4,
 "nbformat_minor": 5
}
