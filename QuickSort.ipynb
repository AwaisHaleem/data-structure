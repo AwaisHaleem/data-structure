{
 "cells": [
  {
   "cell_type": "markdown",
   "id": "e2f22020",
   "metadata": {},
   "source": [
    "# <center> Quick Sort</center>"
   ]
  },
  {
   "cell_type": "markdown",
   "id": "fb13ee75",
   "metadata": {},
   "source": [
    "- Divide and Counquer type alg\n",
    "- First put Pivot at its correct place\n",
    "- Putting the pivot at its right place is called <b> Partitioning</b>\n",
    "- <u><b> Two Types of Partitioning</b></u>\n",
    "<ul><li> <b> Hoare Partition</b>: Pivot is first element</li>\n",
    "<li> <b> Lomuto Partition</b></li></ul>"
   ]
  },
  {
   "cell_type": "code",
   "execution_count": 1,
   "id": "7ead9909",
   "metadata": {},
   "outputs": [],
   "source": [
    "def swap(a, b, ar):\n",
    "    if a!=b:\n",
    "        temp = ar[a]\n",
    "        ar[a] = ar[b]\n",
    "        ar[b] = temp\n",
    "        \n",
    "def quickSort(elements, start, end):\n",
    "    if start<end:\n",
    "        pi = partition(elements, start, end)\n",
    "        quickSort(elements, start, pi-1)\n",
    "        quickSort(elements, pi+1, end)\n",
    "\n",
    "def partition(arr, start, end):\n",
    "    pivot_index = start\n",
    "    pivot_element = arr[pivot_index]\n",
    "    \n",
    "    \n",
    "    while  start<end:\n",
    "        while start<len(arr) and arr[start] <= pivot_element:\n",
    "            start += 1\n",
    "\n",
    "        while arr[end] > pivot_element:\n",
    "            end -= 1\n",
    "        if start<end:\n",
    "            swap(start, end, arr)\n",
    "    swap(pivot_index, end, arr)\n",
    "    \n",
    "    return end\n",
    "\n"
   ]
  },
  {
   "cell_type": "code",
   "execution_count": 2,
   "id": "f45a9c22",
   "metadata": {},
   "outputs": [
    {
     "data": {
      "text/plain": [
       "[2, 7, 9, 11, 15, 28, 29]"
      ]
     },
     "execution_count": 2,
     "metadata": {},
     "output_type": "execute_result"
    }
   ],
   "source": [
    "a = [11, 9, 29, 7, 2, 15, 28]\n",
    "quickSort(a, 0, len(a)-1)\n",
    "a"
   ]
  },
  {
   "cell_type": "code",
   "execution_count": 4,
   "id": "e40b7e11",
   "metadata": {},
   "outputs": [
    {
     "name": "stdout",
     "output_type": "stream",
     "text": [
      "sorted array: [2, 7, 9, 11, 15, 28, 29]\n",
      "sorted array: [3, 7, 9, 11]\n",
      "sorted array: [10, 21, 22, 25]\n",
      "sorted array: [15, 28, 29]\n",
      "sorted array: []\n",
      "sorted array: [6]\n"
     ]
    }
   ],
   "source": [
    "tests = [\n",
    "        [11,9,29,7,2,15,28],\n",
    "        [3, 7, 9, 11],\n",
    "        [25, 22, 21, 10],\n",
    "        [29, 15, 28],\n",
    "        [],\n",
    "        [6]\n",
    "    ]\n",
    "\n",
    "for elements in tests:\n",
    "    quickSort(elements, 0, len(elements)-1)\n",
    "    print(f'sorted array: {elements}')"
   ]
  },
  {
   "cell_type": "code",
   "execution_count": null,
   "id": "733c8f07",
   "metadata": {},
   "outputs": [],
   "source": []
  }
 ],
 "metadata": {
  "kernelspec": {
   "display_name": "Python 3 (ipykernel)",
   "language": "python",
   "name": "python3"
  },
  "language_info": {
   "codemirror_mode": {
    "name": "ipython",
    "version": 3
   },
   "file_extension": ".py",
   "mimetype": "text/x-python",
   "name": "python",
   "nbconvert_exporter": "python",
   "pygments_lexer": "ipython3",
   "version": "3.9.7"
  }
 },
 "nbformat": 4,
 "nbformat_minor": 5
}
