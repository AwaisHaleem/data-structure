{
 "cells": [
  {
   "cell_type": "code",
   "execution_count": 16,
   "id": "a04139d2",
   "metadata": {},
   "outputs": [],
   "source": [
    "class Graph:\n",
    "    def __init__(self, edges):\n",
    "        self.edges = edges\n",
    "        self.graph_dict = {}\n",
    "        \n",
    "        for start, end in edges:\n",
    "            if start in self.graph_dict:\n",
    "                self.graph_dict[start].append(end)\n",
    "            else:\n",
    "                self.graph_dict[start] = [end]\n",
    "        print(self.graph_dict)\n",
    "        \n",
    "    def get_path(self, start, end, path=[]):\n",
    "        path = path + [start]\n",
    "        \n",
    "        if start == end:\n",
    "            return [path]\n",
    "        \n",
    "        if start not in self.graph_dict:\n",
    "            return []\n",
    "        \n",
    "        paths = []\n",
    "        \n",
    "        for node in self.graph_dict[start]:\n",
    "            if node not in path:\n",
    "                new_paths = self.get_path(node, end, path)\n",
    "                for p in new_paths:\n",
    "                    paths.append(p)\n",
    "                    \n",
    "        return paths\n",
    "    \n",
    "    \n",
    "    def get_shortest_path(self, start, end, path=[]):\n",
    "        path = path + [start]\n",
    "        \n",
    "        if start == end:\n",
    "            return path\n",
    "        \n",
    "        if start not in self.graph_dict:\n",
    "            return None\n",
    "        \n",
    "        shortest_path = None\n",
    "        \n",
    "        for node in self.graph_dict[start]:\n",
    "            if node not in path:\n",
    "                sp = self.get_shortest_path(node, end, path)\n",
    "                if sp:\n",
    "                    if shortest_path is None or len(sp) < len(shortest_path):\n",
    "                        shortest_path = sp\n",
    "        return shortest_path"
   ]
  },
  {
   "cell_type": "code",
   "execution_count": 17,
   "id": "34a33cbb",
   "metadata": {},
   "outputs": [],
   "source": [
    "routs = [\n",
    "    (\"mumbai\", \"Paris\"),\n",
    "    (\"mumbai\", \"Dubai\"),\n",
    "    (\"Paris\", \"Dubai\"),\n",
    "    (\"Paris\", \"New Yark\"),\n",
    "    (\"Dubai\", \"New Yark\"),\n",
    "    (\"New Yark\", \"Torrento\"),\n",
    "    \n",
    "]"
   ]
  },
  {
   "cell_type": "code",
   "execution_count": 18,
   "id": "e6182cff",
   "metadata": {},
   "outputs": [
    {
     "name": "stdout",
     "output_type": "stream",
     "text": [
      "{'mumbai': ['Paris', 'Dubai'], 'Paris': ['Dubai', 'New Yark'], 'Dubai': ['New Yark'], 'New Yark': ['Torrento']}\n"
     ]
    }
   ],
   "source": [
    "g = Graph(routs)"
   ]
  },
  {
   "cell_type": "code",
   "execution_count": 19,
   "id": "c63220e8",
   "metadata": {},
   "outputs": [
    {
     "data": {
      "text/plain": [
       "[['mumbai', 'Paris', 'Dubai', 'New Yark'],\n",
       " ['mumbai', 'Paris', 'New Yark'],\n",
       " ['mumbai', 'Dubai', 'New Yark']]"
      ]
     },
     "execution_count": 19,
     "metadata": {},
     "output_type": "execute_result"
    }
   ],
   "source": [
    "start = \"mumbai\"\n",
    "end = \"New Yark\"\n",
    "\n",
    "g.get_path(start, end)"
   ]
  },
  {
   "cell_type": "code",
   "execution_count": 20,
   "id": "9ff41ae6",
   "metadata": {},
   "outputs": [
    {
     "data": {
      "text/plain": [
       "['mumbai', 'Paris', 'New Yark']"
      ]
     },
     "execution_count": 20,
     "metadata": {},
     "output_type": "execute_result"
    }
   ],
   "source": [
    "g.get_shortest_path(start, end)"
   ]
  },
  {
   "cell_type": "code",
   "execution_count": null,
   "id": "73116b16",
   "metadata": {},
   "outputs": [],
   "source": []
  }
 ],
 "metadata": {
  "kernelspec": {
   "display_name": "Python 3 (ipykernel)",
   "language": "python",
   "name": "python3"
  },
  "language_info": {
   "codemirror_mode": {
    "name": "ipython",
    "version": 3
   },
   "file_extension": ".py",
   "mimetype": "text/x-python",
   "name": "python",
   "nbconvert_exporter": "python",
   "pygments_lexer": "ipython3",
   "version": "3.9.7"
  }
 },
 "nbformat": 4,
 "nbformat_minor": 5
}
