{
 "cells": [
  {
   "cell_type": "markdown",
   "id": "ee9e269f",
   "metadata": {},
   "source": [
    "# <center> Linear Search</center>"
   ]
  },
  {
   "cell_type": "markdown",
   "id": "47e75128",
   "metadata": {},
   "source": [
    "- Sequential search\n",
    "- We <b>start at a begining</b> of a list or a table and search for the desired record until <b>either the desired record is found or the list/table is exhausted</b>\n"
   ]
  },
  {
   "cell_type": "code",
   "execution_count": 7,
   "id": "0b1a30bf",
   "metadata": {},
   "outputs": [],
   "source": [
    "def linear_search(arr, value):\n",
    "    for i in range(len(arr)-1):\n",
    "        if arr[i] == value:\n",
    "            return f\"The index of {value} is \\\"{i}\\\"\"\n",
    "    return f\"{value} is not in the array\""
   ]
  },
  {
   "cell_type": "code",
   "execution_count": 8,
   "id": "eeb2e909",
   "metadata": {},
   "outputs": [
    {
     "data": {
      "text/plain": [
       "'The index of 4 is \"3\"'"
      ]
     },
     "execution_count": 8,
     "metadata": {},
     "output_type": "execute_result"
    }
   ],
   "source": [
    "linear_search([1, 2, 3, 4 ,5 , 6, 7, 8, 9], 4)"
   ]
  },
  {
   "cell_type": "code",
   "execution_count": 9,
   "id": "59643044",
   "metadata": {},
   "outputs": [
    {
     "data": {
      "text/plain": [
       "'11 is not in the array'"
      ]
     },
     "execution_count": 9,
     "metadata": {},
     "output_type": "execute_result"
    }
   ],
   "source": [
    "linear_search([1, 2, 3, 4 ,5 , 6, 7, 8, 9], 11)"
   ]
  },
  {
   "cell_type": "markdown",
   "id": "0bc41ec5",
   "metadata": {},
   "source": [
    "# <center> Binary Search</center>"
   ]
  },
  {
   "cell_type": "markdown",
   "id": "54531492",
   "metadata": {},
   "source": [
    "- Can only be used on sorted data\n",
    "- Binary search algorithm repeatedly divides search interva/space in half"
   ]
  },
  {
   "cell_type": "code",
   "execution_count": 14,
   "id": "0fa5540d",
   "metadata": {},
   "outputs": [],
   "source": [
    "def binary_search(arr, item):\n",
    "    lower_index = 0;\n",
    "    upper_index = len(arr)-1\n",
    "    \n",
    "    while upper_index>=lower_index:\n",
    "        middle_index = (lower_index+upper_index)//2\n",
    "        if arr[middle_index] == item:\n",
    "            return f\"{item} is at index {middle_index}\"\n",
    "        elif arr[middle_index] < item:\n",
    "            lower_index = middle_index + 1\n",
    "        else:\n",
    "            upper_index = middle_index - 1\n",
    "    return f\"{item} is not in array\""
   ]
  },
  {
   "cell_type": "code",
   "execution_count": 15,
   "id": "43eda872",
   "metadata": {},
   "outputs": [
    {
     "data": {
      "text/plain": [
       "'22 is at index 3'"
      ]
     },
     "execution_count": 15,
     "metadata": {},
     "output_type": "execute_result"
    }
   ],
   "source": [
    "binary_search([1, 2,11, 22, 33, 44, 55, 66, 67], 22)"
   ]
  },
  {
   "cell_type": "code",
   "execution_count": 16,
   "id": "f39efe4d",
   "metadata": {},
   "outputs": [
    {
     "data": {
      "text/plain": [
       "'222 is not in array'"
      ]
     },
     "execution_count": 16,
     "metadata": {},
     "output_type": "execute_result"
    }
   ],
   "source": [
    "binary_search([1, 2,11, 22, 33, 44, 55, 66, 67], 222)"
   ]
  },
  {
   "cell_type": "code",
   "execution_count": 17,
   "id": "e790bd23",
   "metadata": {},
   "outputs": [
    {
     "data": {
      "text/plain": [
       "'1 is at index 0'"
      ]
     },
     "execution_count": 17,
     "metadata": {},
     "output_type": "execute_result"
    }
   ],
   "source": [
    "binary_search([1, 2,11, 22, 33, 44, 55, 66, 67], 1)"
   ]
  },
  {
   "cell_type": "code",
   "execution_count": 18,
   "id": "4f52ecc3",
   "metadata": {},
   "outputs": [
    {
     "data": {
      "text/plain": [
       "'66 is at index 7'"
      ]
     },
     "execution_count": 18,
     "metadata": {},
     "output_type": "execute_result"
    }
   ],
   "source": [
    "binary_search([1, 2,11, 22, 33, 44, 55, 66, 67], 66)"
   ]
  },
  {
   "cell_type": "code",
   "execution_count": 19,
   "id": "d7c2a49c",
   "metadata": {},
   "outputs": [
    {
     "data": {
      "text/plain": [
       "'67 is at index 8'"
      ]
     },
     "execution_count": 19,
     "metadata": {},
     "output_type": "execute_result"
    }
   ],
   "source": [
    "binary_search([1, 2,11, 22, 33, 44, 55, 66, 67], 67)"
   ]
  },
  {
   "cell_type": "code",
   "execution_count": 20,
   "id": "3f78150f",
   "metadata": {},
   "outputs": [
    {
     "data": {
      "text/plain": [
       "'55 is at index 6'"
      ]
     },
     "execution_count": 20,
     "metadata": {},
     "output_type": "execute_result"
    }
   ],
   "source": [
    "binary_search([1, 2,11, 22, 33, 44, 55, 66, 67], 55)"
   ]
  },
  {
   "cell_type": "code",
   "execution_count": 21,
   "id": "e4ba2ae0",
   "metadata": {},
   "outputs": [
    {
     "data": {
      "text/plain": [
       "'44 is at index 5'"
      ]
     },
     "execution_count": 21,
     "metadata": {},
     "output_type": "execute_result"
    }
   ],
   "source": [
    "binary_search([1, 2,11, 22, 33, 44, 55, 66, 67], 44)"
   ]
  },
  {
   "cell_type": "code",
   "execution_count": 22,
   "id": "31c907b3",
   "metadata": {},
   "outputs": [
    {
     "data": {
      "text/plain": [
       "'33 is at index 4'"
      ]
     },
     "execution_count": 22,
     "metadata": {},
     "output_type": "execute_result"
    }
   ],
   "source": [
    "binary_search([1, 2,11, 22, 33, 44, 55, 66, 67], 33)"
   ]
  },
  {
   "cell_type": "code",
   "execution_count": 23,
   "id": "ecc078bd",
   "metadata": {},
   "outputs": [
    {
     "name": "stdout",
     "output_type": "stream",
     "text": [
      "2 is at index 0\n",
      "3 is at index 1\n",
      "4 is at index 2\n",
      "10 is at index 3\n",
      "40 is at index 4\n"
     ]
    }
   ],
   "source": [
    "for x in [2, 3, 4, 10, 40]:\n",
    "    print(binary_search([2, 3, 4, 10, 40], x))"
   ]
  },
  {
   "cell_type": "code",
   "execution_count": 28,
   "id": "eb2b974e",
   "metadata": {},
   "outputs": [],
   "source": [
    "# recursive method\n",
    "def binary_search(arr,item, low, high):\n",
    "    \n",
    "    while high>= low:\n",
    "        mid = (low+high)//2\n",
    "        if item == arr[mid]:\n",
    "            return f\"{item} is at index {mid}\"\n",
    "        if item > arr[mid]:\n",
    "            return binary_search(arr, item, low+1, high)\n",
    "        else:\n",
    "            return binary_search(arr, item, low, high-1)\n",
    "    return f\"{item} is not in array\""
   ]
  },
  {
   "cell_type": "code",
   "execution_count": 29,
   "id": "57044085",
   "metadata": {},
   "outputs": [
    {
     "name": "stdout",
     "output_type": "stream",
     "text": [
      "3 is at index 0\n",
      "4 is at index 1\n",
      "5 is at index 2\n",
      "6 is at index 3\n",
      "7 is at index 4\n",
      "8 is at index 5\n",
      "9 is at index 6\n"
     ]
    }
   ],
   "source": [
    "for x in [3, 4, 5, 6, 7, 8, 9]:\n",
    "    print(binary_search([3, 4, 5, 6, 7, 8, 9], x, 0, 6))"
   ]
  },
  {
   "cell_type": "code",
   "execution_count": 30,
   "id": "b002dcc6",
   "metadata": {},
   "outputs": [
    {
     "data": {
      "text/plain": [
       "'12 is not in array'"
      ]
     },
     "execution_count": 30,
     "metadata": {},
     "output_type": "execute_result"
    }
   ],
   "source": [
    "binary_search([3, 4, 5, 6, 7, 8, 9], 12, 0, 6)"
   ]
  },
  {
   "cell_type": "code",
   "execution_count": null,
   "id": "e6e7d8b2",
   "metadata": {},
   "outputs": [],
   "source": []
  }
 ],
 "metadata": {
  "kernelspec": {
   "display_name": "Python 3 (ipykernel)",
   "language": "python",
   "name": "python3"
  },
  "language_info": {
   "codemirror_mode": {
    "name": "ipython",
    "version": 3
   },
   "file_extension": ".py",
   "mimetype": "text/x-python",
   "name": "python",
   "nbconvert_exporter": "python",
   "pygments_lexer": "ipython3",
   "version": "3.9.7"
  }
 },
 "nbformat": 4,
 "nbformat_minor": 5
}
