{
 "cells": [
  {
   "cell_type": "markdown",
   "id": "9e05616c",
   "metadata": {},
   "source": [
    " # <center> Recursion and Backtracking<center>"
   ]
  },
  {
   "cell_type": "markdown",
   "id": "49517778",
   "metadata": {},
   "source": [
    "# Recursion"
   ]
  },
  {
   "cell_type": "markdown",
   "id": "19fb110f",
   "metadata": {},
   "source": [
    "- Recursion is when a function calls itself\n",
    "- Any function that calls itself is called recursive\n",
    "- Every time the fucntion calls itself on slightly simpler version of the original problem\n",
    "- It is importan that recursion terminates\n",
    "- Recurtion terminates when base case is reached\n",
    "- Recursive code is generally shorter and easier to write than iterative code\n",
    "- Solution of some recursive problem is easier to solve recursively\n"
   ]
  },
  {
   "cell_type": "markdown",
   "id": "04da0e6a",
   "metadata": {},
   "source": [
    "## Factorial with iteration"
   ]
  },
  {
   "cell_type": "code",
   "execution_count": 8,
   "id": "05f1a416",
   "metadata": {},
   "outputs": [
    {
     "data": {
      "text/plain": [
       "120"
      ]
     },
     "execution_count": 8,
     "metadata": {},
     "output_type": "execute_result"
    }
   ],
   "source": [
    "def fac(n):\n",
    "    facto = 1\n",
    "    for i in range(n):\n",
    "        facto = facto * (i+1)\n",
    "    return facto\n",
    "fac(5)\n",
    "        "
   ]
  },
  {
   "cell_type": "markdown",
   "id": "cb615b2b",
   "metadata": {},
   "source": [
    "## Factorial with Recursion"
   ]
  },
  {
   "cell_type": "code",
   "execution_count": 2,
   "id": "1054d634",
   "metadata": {},
   "outputs": [
    {
     "data": {
      "text/plain": [
       "120"
      ]
     },
     "execution_count": 2,
     "metadata": {},
     "output_type": "execute_result"
    }
   ],
   "source": [
    "def fac(n):\n",
    "    facto = 1\n",
    "    if(n==1):\n",
    "        return 1\n",
    "    facto *= n * fac(n-1)\n",
    "    return facto\n",
    "fac(5)"
   ]
  },
  {
   "cell_type": "markdown",
   "id": "abdd5fa7",
   "metadata": {},
   "source": [
    "## Fibonacci Series"
   ]
  },
  {
   "cell_type": "markdown",
   "id": "ccd07c9b",
   "metadata": {},
   "source": [
    "#### Find the fibonacci number with index"
   ]
  },
  {
   "cell_type": "code",
   "execution_count": 9,
   "id": "8e274bec",
   "metadata": {},
   "outputs": [
    {
     "data": {
      "text/plain": [
       "13"
      ]
     },
     "execution_count": 9,
     "metadata": {},
     "output_type": "execute_result"
    }
   ],
   "source": [
    "def fib(n):\n",
    "    if(n<=2):\n",
    "        return 1\n",
    "    fib_no = (fib(n-1) + fib(n-2))\n",
    "    return fib_no\n",
    "fib(7)"
   ]
  },
  {
   "cell_type": "markdown",
   "id": "255a2a2a",
   "metadata": {},
   "source": [
    "#### Find ficonacci number's total to an index"
   ]
  },
  {
   "cell_type": "code",
   "execution_count": 18,
   "id": "4459d4d7",
   "metadata": {},
   "outputs": [
    {
     "data": {
      "text/plain": [
       "7"
      ]
     },
     "execution_count": 18,
     "metadata": {},
     "output_type": "execute_result"
    }
   ],
   "source": [
    "def fib_total(n):\n",
    "    fib_to = 0\n",
    "    for i in range(n):\n",
    "        if(n<=2):\n",
    "            fib_to = fib_to + 1\n",
    "        else:\n",
    "            fib_no = fib(n-1) + fib(n-2)\n",
    "            fib_to = fib_to + fib_no\n",
    "        n = n - 1\n",
    "    return fib_to\n",
    "fib_total(4)"
   ]
  },
  {
   "cell_type": "markdown",
   "id": "541f42e2",
   "metadata": {},
   "source": [
    "## Greatest Common Divisor"
   ]
  },
  {
   "cell_type": "code",
   "execution_count": 14,
   "id": "315a0763",
   "metadata": {},
   "outputs": [
    {
     "data": {
      "text/plain": [
       "7"
      ]
     },
     "execution_count": 14,
     "metadata": {},
     "output_type": "execute_result"
    }
   ],
   "source": [
    "def gcd(a, b):\n",
    "    if(a==b):\n",
    "        return a\n",
    "    if(a%b==0):\n",
    "        return b\n",
    "    if(b%a==0):\n",
    "        return a\n",
    "    if(a>b):\n",
    "        return gcd(a%b, b)\n",
    "    else:\n",
    "        return gcd(a, b%a)\n",
    "gcd(105, 91)\n",
    "    "
   ]
  }
 ],
 "metadata": {
  "kernelspec": {
   "display_name": "Python 3 (ipykernel)",
   "language": "python",
   "name": "python3"
  },
  "language_info": {
   "codemirror_mode": {
    "name": "ipython",
    "version": 3
   },
   "file_extension": ".py",
   "mimetype": "text/x-python",
   "name": "python",
   "nbconvert_exporter": "python",
   "pygments_lexer": "ipython3",
   "version": "3.9.7"
  }
 },
 "nbformat": 4,
 "nbformat_minor": 5
}
