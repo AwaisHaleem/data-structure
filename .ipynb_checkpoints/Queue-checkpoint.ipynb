{
 "cells": [
  {
   "cell_type": "markdown",
   "id": "a4644217",
   "metadata": {},
   "source": [
    "# <cneter> Queue Data Structrure <center>"
   ]
  },
  {
   "cell_type": "markdown",
   "id": "eb8464da",
   "metadata": {},
   "source": [
    "- ADT = DS + OPRNS\n",
    "- Linear\n",
    "- FIFO, LILO\n",
    "- Ordered, insertion from one end and poping from other side\n",
    "- Loose coupling"
   ]
  },
  {
   "cell_type": "code",
   "execution_count": 35,
   "id": "62cb0fe4",
   "metadata": {},
   "outputs": [],
   "source": [
    "from collections import deque\n",
    "\n",
    "\n",
    "class Queue:\n",
    "    def __init__(self):\n",
    "        self.que = deque();\n",
    "    \n",
    "    def isEmptyQueue(self):\n",
    "        return True if len(self.que) == 0 else False\n",
    "    \n",
    "    def queueSize(self):\n",
    "        return len(self.que)\n",
    "    \n",
    "    def enQueue(self, data):\n",
    "        self.que.appendleft(data)\n",
    "        \n",
    "    def deQueue(self):\n",
    "        return self.que.pop() if len(self.que)>0 else \"Queue is empty\""
   ]
  },
  {
   "cell_type": "code",
   "execution_count": 22,
   "id": "3987acbe",
   "metadata": {},
   "outputs": [],
   "source": [
    "queue = Queue()"
   ]
  },
  {
   "cell_type": "code",
   "execution_count": 23,
   "id": "2df45de5",
   "metadata": {},
   "outputs": [
    {
     "data": {
      "text/plain": [
       "True"
      ]
     },
     "execution_count": 23,
     "metadata": {},
     "output_type": "execute_result"
    }
   ],
   "source": [
    "queue.isEmptyQueue()"
   ]
  },
  {
   "cell_type": "code",
   "execution_count": 24,
   "id": "0a7a31a8",
   "metadata": {},
   "outputs": [],
   "source": [
    "queue.enQueue(8)"
   ]
  },
  {
   "cell_type": "code",
   "execution_count": 25,
   "id": "7e74798b",
   "metadata": {},
   "outputs": [
    {
     "data": {
      "text/plain": [
       "1"
      ]
     },
     "execution_count": 25,
     "metadata": {},
     "output_type": "execute_result"
    }
   ],
   "source": [
    "queue.queueSize()"
   ]
  },
  {
   "cell_type": "code",
   "execution_count": 26,
   "id": "d5781977",
   "metadata": {},
   "outputs": [],
   "source": [
    "queue.enQueue(7)\n",
    "queue.enQueue(6)\n",
    "queue.enQueue(5)"
   ]
  },
  {
   "cell_type": "code",
   "execution_count": 27,
   "id": "2ee2022c",
   "metadata": {},
   "outputs": [
    {
     "data": {
      "text/plain": [
       "4"
      ]
     },
     "execution_count": 27,
     "metadata": {},
     "output_type": "execute_result"
    }
   ],
   "source": [
    "queue.queueSize()"
   ]
  },
  {
   "cell_type": "code",
   "execution_count": 28,
   "id": "cc24baee",
   "metadata": {},
   "outputs": [
    {
     "data": {
      "text/plain": [
       "8"
      ]
     },
     "execution_count": 28,
     "metadata": {},
     "output_type": "execute_result"
    }
   ],
   "source": [
    "queue.deQueue()"
   ]
  },
  {
   "cell_type": "code",
   "execution_count": 29,
   "id": "7c7a6382",
   "metadata": {},
   "outputs": [
    {
     "data": {
      "text/plain": [
       "7"
      ]
     },
     "execution_count": 29,
     "metadata": {},
     "output_type": "execute_result"
    }
   ],
   "source": [
    "queue.deQueue()"
   ]
  },
  {
   "cell_type": "code",
   "execution_count": 30,
   "id": "34807a9b",
   "metadata": {},
   "outputs": [
    {
     "data": {
      "text/plain": [
       "6"
      ]
     },
     "execution_count": 30,
     "metadata": {},
     "output_type": "execute_result"
    }
   ],
   "source": [
    "queue.deQueue()"
   ]
  },
  {
   "cell_type": "code",
   "execution_count": 32,
   "id": "e7cc85f5",
   "metadata": {},
   "outputs": [
    {
     "data": {
      "text/plain": [
       "5"
      ]
     },
     "execution_count": 32,
     "metadata": {},
     "output_type": "execute_result"
    }
   ],
   "source": [
    "queue.deQueue()"
   ]
  },
  {
   "cell_type": "code",
   "execution_count": 33,
   "id": "6b62ef5a",
   "metadata": {},
   "outputs": [
    {
     "data": {
      "text/plain": [
       "'Queue is empty'"
      ]
     },
     "execution_count": 33,
     "metadata": {},
     "output_type": "execute_result"
    }
   ],
   "source": [
    "queue.deQueue()"
   ]
  },
  {
   "cell_type": "code",
   "execution_count": null,
   "id": "18d1adb0",
   "metadata": {},
   "outputs": [],
   "source": []
  }
 ],
 "metadata": {
  "kernelspec": {
   "display_name": "Python 3 (ipykernel)",
   "language": "python",
   "name": "python3"
  },
  "language_info": {
   "codemirror_mode": {
    "name": "ipython",
    "version": 3
   },
   "file_extension": ".py",
   "mimetype": "text/x-python",
   "name": "python",
   "nbconvert_exporter": "python",
   "pygments_lexer": "ipython3",
   "version": "3.9.7"
  }
 },
 "nbformat": 4,
 "nbformat_minor": 5
}
