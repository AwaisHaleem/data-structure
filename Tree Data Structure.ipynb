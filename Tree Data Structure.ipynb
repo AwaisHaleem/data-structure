{
 "cells": [
  {
   "cell_type": "markdown",
   "id": "90bde2aa",
   "metadata": {},
   "source": [
    "# <center>General Tree Data Structrure <center>"
   ]
  },
  {
   "cell_type": "markdown",
   "id": "548f6d7f",
   "metadata": {},
   "source": [
    "- <b>Hierarchical</b> data structure\n",
    "- Tree - One or more data items(node)\n",
    "- Root Node\n",
    "- The remaining nodes are partitioned int n>=0 disjoint subset, each of which is itself a tree, that called <b>sub-trees</b>\n",
    "\n",
    "- <b>Degree </b>: No. of sub-trees of a node.\n",
    "- <b>Leaf </b>: A node with 0 degree\n",
    "- <b>Terminal Node </b>: Leaf is also called terminal Node\n",
    "- <b>Degree of Tree </b>: the maximum degree of the nodes in the tree\n",
    "- <b>Ancestor </b>: Ancestor of a node are all the nodes along the path from Root to that node\n",
    "- <b>Desendants </b>: Decendats are all the nodes along the path from that node to terminal node\n",
    "- <b>Level No </b>: <ul>\n",
    "    <li>Each node is assigned a level no</li>\n",
    "    <li>Root Level is 0</li>\n",
    "    <li>Every other node is assigned a level number which is 1 more than its parent node</li> </ul>\n",
    "- <b>Generation </b>: Nodes with the same level no belongs to the same generation\n",
    "- <b>Hight/Depth </b>: Hight/Depth of a tree is the max no. of nodes in a branch\n",
    "- <b>Edge </b>: A line drawn from a node N of T to its succesor\n",
    "- <b>Path </b>: Sequence of consequetive edges"
   ]
  },
  {
   "attachments": {
    "general%20tree%20ds.png": {
     "image/png": "[encoded data removed]"
    }
   },
   "cell_type": "markdown",
   "id": "d4b3ebeb",
   "metadata": {},
   "source": [
    "![general%20tree%20ds.png](attachment:general%20tree%20ds.png)"
   ]
  },
  {
   "cell_type": "markdown",
   "id": "99016ce1",
   "metadata": {},
   "source": [
    "# Binary Tree"
   ]
  },
  {
   "cell_type": "markdown",
   "id": "af42854d",
   "metadata": {},
   "source": [
    "- A binary tree T is defined as a finite set of elements, called nodes, such that:\n",
    "    <ul>\n",
    "    <li> T is empty (Null/Empty tree)</li>\n",
    "    <li> T contains a distinguished node R, called root of the tree, and the remaining nodes of T form an <b>ordered pair of disjoint binary trees</b>\n",
    "    </ul>\n",
    "- Left/Rght nodes\n",
    "- Binary tree is recursive"
   ]
  },
  {
   "cell_type": "markdown",
   "id": "a8f49da9",
   "metadata": {},
   "source": [
    "## Implementation of Tree DS in Python "
   ]
  },
  {
   "cell_type": "code",
   "execution_count": null,
   "id": "d5644536",
   "metadata": {},
   "outputs": [],
   "source": [
    "class TreeNode:\n",
    "    def __init__(self, data):\n",
    "        self.data = data\n",
    "        self.children = []\n",
    "        self.parent = None\n",
    "\n",
    "    def add_child(self, child):\n",
    "        child.parent = self\n",
    "        self.children.append(child)\n",
    "\n",
    "    \n",
    "    def add_child(self, child):\n",
    "        self.parent = self\n",
    "        self.children.append(child)\n",
    "        \n",
    "\n",
    "    def get_level(self):\n",
    "        level = 0\n",
    "        p = self.parent\n",
    "        while p:\n",
    "            level += 1\n",
    "            p = p.parent\n",
    "\n",
    "        return level\n",
    "            \n",
    "    def print_tree(self):\n",
    "#         spaces = \" \" * self.get_level()\n",
    "#         print(spaces + self.data\n",
    "        print(self.data)\n",
    "             \n",
    "        if self.children:\n",
    "            for child in self.children:\n",
    "                child.print_tree()\n",
    "                \n",
    "\n",
    "def build_product_tree():\n",
    "    root = TreeNode(\"electronics\")\n",
    "    \n",
    "    laptop = TreeNode(\"laptop\") \n",
    "    laptop.add_child(TreeNode(\"Dell\"))\n",
    "    laptop.add_child(TreeNode(\"Toshiba\"))\n",
    "    laptop.add_child(TreeNode(\"hp\"))\n",
    "    \n",
    "    mobile = TreeNode(\"Mobile\") \n",
    "    mobile.add_child(TreeNode(\"Nokia\"))\n",
    "    mobile.add_child(TreeNode(\"Samsung\"))\n",
    "    mobile.add_child(TreeNode(\"Apple\"))\n",
    "    \n",
    "    tv = TreeNode(\"Tv\") \n",
    "    tv.add_child(TreeNode(\"Sony\"))\n",
    "    tv.add_child(TreeNode(\"Panasonic\"))\n",
    "    tv.add_child(TreeNode(\"Changan\"))\n",
    "    \n",
    "    root.add_child(laptop)\n",
    "    root.add_child(mobile)\n",
    "    root.add_child(tv)\n",
    "    \n",
    "    return root\n",
    "\n",
    "if __name__ == '__main__':\n",
    "    root = build_product_tree()\n",
    "    root.get_level()"
   ]
  },
  {
   "cell_type": "code",
   "execution_count": null,
   "id": "205b1d90",
   "metadata": {},
   "outputs": [],
   "source": [
    "class TreeNode:\n",
    "    def __init__(self, data):\n",
    "        self.data = data\n",
    "        self.children = []\n",
    "        self.parent = None\n",
    "\n",
    "    def get_level(self):\n",
    "        level = 0\n",
    "        p = self.parent\n",
    "        while p:\n",
    "            level += 1\n",
    "            p = p.parent\n",
    "\n",
    "        return level\n",
    "\n",
    "    def print_tree(self):\n",
    "        spaces = ' ' * self.get_level() * 3\n",
    "        prefix = spaces + \"|__\" if self.parent else \"\"\n",
    "        print(prefix + self.data)\n",
    "        if self.children:\n",
    "            for child in self.children:\n",
    "                child.print_tree()\n",
    "\n",
    "    def add_child(self, child):\n",
    "        child.parent = self\n",
    "        self.children.append(child)\n",
    "\n",
    "def build_product_tree():\n",
    "    root = TreeNode(\"Electronics\")\n",
    "\n",
    "    laptop = TreeNode(\"Laptop\")\n",
    "    laptop.add_child(TreeNode(\"Mac\"))\n",
    "    laptop.add_child(TreeNode(\"Surface\"))\n",
    "    laptop.add_child(TreeNode(\"Thinkpad\"))\n",
    "\n",
    "    cellphone = TreeNode(\"Cell Phone\")\n",
    "    cellphone.add_child(TreeNode(\"iPhone\"))\n",
    "    cellphone.add_child(TreeNode(\"Google Pixel\"))\n",
    "    cellphone.add_child(TreeNode(\"Vivo\"))\n",
    "\n",
    "    tv = TreeNode(\"TV\")\n",
    "    tv.add_child(TreeNode(\"Samsung\"))\n",
    "    tv.add_child(TreeNode(\"LG\"))\n",
    "\n",
    "    root.add_child(laptop)\n",
    "    root.add_child(cellphone)\n",
    "    root.add_child(tv)\n",
    "\n",
    "    root.print_tree()\n",
    "\n",
    "if __name__ == '__main__':\n",
    "    build_product_tree()"
   ]
  },
  {
   "cell_type": "markdown",
   "id": "d1c9740b",
   "metadata": {},
   "source": [
    "# Complete Binary Tree"
   ]
  },
  {
   "cell_type": "markdown",
   "id": "0481a8a1",
   "metadata": {},
   "source": [
    "- All levels filled\n",
    "- All leaf nodes are at same level\n",
    "\n"
   ]
  },
  {
   "attachments": {
    "complete%20binary%20tree.png": {
     "image/png": "[encoded data removed]"
    }
   },
   "cell_type": "markdown",
   "id": "f5d53e7c",
   "metadata": {},
   "source": [
    "![complete%20binary%20tree.png](attachment:complete%20binary%20tree.png)"
   ]
  },
  {
   "cell_type": "markdown",
   "id": "63875716",
   "metadata": {},
   "source": [
    "# Almost Complete Binary Tree"
   ]
  },
  {
   "cell_type": "markdown",
   "id": "c7f7c94b",
   "metadata": {},
   "source": [
    "- Not necessarily binary (but they can)\n",
    "- Sb-tree containing all the nodes from root to leve d-1(complete binary tree). d is total levels"
   ]
  },
  {
   "attachments": {
    "almost%20complete%20binary%20tree.jpg": {
     "image/jpeg": "[encoded data removed]"
    }
   },
   "cell_type": "markdown",
   "id": "9526f6d8",
   "metadata": {},
   "source": [
    "![almost%20complete%20binary%20tree.jpg](attachment:almost%20complete%20binary%20tree.jpg)"
   ]
  },
  {
   "cell_type": "markdown",
   "id": "dbea2af9",
   "metadata": {},
   "source": [
    "# Strictly binary Tree"
   ]
  },
  {
   "cell_type": "markdown",
   "id": "61aa004c",
   "metadata": {},
   "source": [
    "- Every node has 2 children or no child\n",
    "- Every node either it's a leaf node or it has 2 children"
   ]
  },
  {
   "attachments": {
    "strict%20binary%20tree.png": {
     "image/png": "[encoded data removed]"
    }
   },
   "cell_type": "markdown",
   "id": "0506f701",
   "metadata": {},
   "source": [
    "![strict%20binary%20tree.png](attachment:strict%20binary%20tree.png)"
   ]
  },
  {
   "cell_type": "markdown",
   "id": "6d2a3b92",
   "metadata": {},
   "source": [
    "# Extended Binary Tree"
   ]
  },
  {
   "cell_type": "markdown",
   "id": "3d613d24",
   "metadata": {},
   "source": [
    "- A tree that has been formed into a strict binary tree\n",
    "- <b>External nodes</b> are added to transform\n",
    "- <b>Internal nodes</b> are nodes that were already present in the tree before transformation"
   ]
  },
  {
   "attachments": {
    "extende%20binary%20tree.png": {
     "image/png": "[encoded data removed]"
    }
   },
   "cell_type": "markdown",
   "id": "4d3893b9",
   "metadata": {},
   "source": [
    "![extende%20binary%20tree.png](attachment:extende%20binary%20tree.png)"
   ]
  },
  {
   "cell_type": "code",
   "execution_count": null,
   "id": "28437646",
   "metadata": {},
   "outputs": [],
   "source": []
  }
 ],
 "metadata": {
  "kernelspec": {
   "display_name": "Python 3 (ipykernel)",
   "language": "python",
   "name": "python3"
  },
  "language_info": {
   "codemirror_mode": {
    "name": "ipython",
    "version": 3
   },
   "file_extension": ".py",
   "mimetype": "text/x-python",
   "name": "python",
   "nbconvert_exporter": "python",
   "pygments_lexer": "ipython3",
   "version": "3.9.7"
  }
 },
 "nbformat": 4,
 "nbformat_minor": 5
}
