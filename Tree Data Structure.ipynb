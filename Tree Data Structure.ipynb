{
 "cells": [
  {
   "cell_type": "markdown",
   "id": "90bde2aa",
   "metadata": {},
   "source": [
    "# <center>General Tree Data Structrure <center>"
   ]
  },
  {
   "cell_type": "markdown",
   "id": "548f6d7f",
   "metadata": {},
   "source": [
    "- <b>Hierarchical</b> data structure\n",
    "- Tree - One or more data items(node)\n",
    "- Root Node\n",
    "- The remaining nodes are partitioned int n>=0 disjoint subset, each of which is itself a tree, that called <b>sub-trees</b>\n",
    "\n",
    "- <b>Degree </b>: No. of sub-trees of a node.\n",
    "- <b>Leaf </b>: A node with 0 degree\n",
    "- <b>Terminal Node </b>: Leaf is also called terminal Node\n",
    "- <b>Degree of Tree </b>: the maximum degree of the nodes in the tree\n",
    "- <b>Ancestor </b>: Ancestor of a node are all the nodes along the path from Root to that node\n",
    "- <b>Desendants </b>: Decendats are all the nodes along the path from that node to terminal node\n",
    "- <b>Level No </b>: <ul>\n",
    "    <li>Each node is assigned a level no</li>\n",
    "    <li>Root Level is 0</li>\n",
    "    <li>Every other node is assigned a level number which is 1 more than its parent node</li> </ul>\n",
    "- <b>Generation </b>: Nodes with the same level no belongs to the same generation\n",
    "- <b>Hight/Depth </b>: Hight/Depth of a tree is the max no. of nodes in a branch\n",
    "- <b>Edge </b>: A line drawn from a node N of T to its succesor\n",
    "- <b>Path </b>: Sequence of consequetive edges"
   ]
  },
  {
   "attachments": {
    "general%20tree%20ds.png": {
     "image/png": "[encoded data removed]"
    }
   },
   "cell_type": "markdown",
   "id": "d4b3ebeb",
   "metadata": {},
   "source": [
    "![general%20tree%20ds.png](attachment:general%20tree%20ds.png)"
   ]
  },
  {
   "cell_type": "code",
   "execution_count": null,
   "id": "e1e55dba",
   "metadata": {},
   "outputs": [],
   "source": [
    "class TreeNode:\n",
    "    def __init__(self, data):\n",
    "        self.data = data\n",
    "        self.children = []\n",
    "        self.parent = None\n",
    "\n",
    "    def add_child(self, child):\n",
    "        child.parent = self\n",
    "        self.children.append(child)\n",
    "\n",
    "    \n",
    "    def add_child(self, child):\n",
    "        self.parent = self\n",
    "        self.children.append(child)\n",
    "        \n",
    "\n",
    "    def get_level(self):\n",
    "        level = 0\n",
    "        p = self.parent\n",
    "        while p:\n",
    "            level += 1\n",
    "            p = p.parent\n",
    "\n",
    "        return level\n",
    "            \n",
    "    def print_tree(self):\n",
    "#         spaces = \" \" * self.get_level()\n",
    "#         print(spaces + self.data\n",
    "        print(self.data)\n",
    "             \n",
    "        if self.children:\n",
    "            for child in self.children:\n",
    "                child.print_tree()\n",
    "                \n",
    "\n",
    "def build_product_tree():\n",
    "    root = TreeNode(\"electronics\")\n",
    "    \n",
    "    laptop = TreeNode(\"laptop\") \n",
    "    laptop.add_child(TreeNode(\"Dell\"))\n",
    "    laptop.add_child(TreeNode(\"Toshiba\"))\n",
    "    laptop.add_child(TreeNode(\"hp\"))\n",
    "    \n",
    "    mobile = TreeNode(\"Mobile\") \n",
    "    mobile.add_child(TreeNode(\"Nokia\"))\n",
    "    mobile.add_child(TreeNode(\"Samsung\"))\n",
    "    mobile.add_child(TreeNode(\"Apple\"))\n",
    "    \n",
    "    tv = TreeNode(\"Tv\") \n",
    "    tv.add_child(TreeNode(\"Sony\"))\n",
    "    tv.add_child(TreeNode(\"Panasonic\"))\n",
    "    tv.add_child(TreeNode(\"Changan\"))\n",
    "    \n",
    "    root.add_child(laptop)\n",
    "    root.add_child(mobile)\n",
    "    root.add_child(tv)\n",
    "    \n",
    "    return root\n",
    "\n",
    "if __name__ == '__main__':\n",
    "    root = build_product_tree()\n",
    "    root.get_level()"
   ]
  },
  {
   "cell_type": "code",
   "execution_count": null,
   "id": "05f5a99b",
   "metadata": {},
   "outputs": [],
   "source": [
    "class TreeNode:\n",
    "    def __init__(self, data):\n",
    "        self.data = data\n",
    "        self.children = []\n",
    "        self.parent = None\n",
    "\n",
    "    def get_level(self):\n",
    "        level = 0\n",
    "        p = self.parent\n",
    "        while p:\n",
    "            level += 1\n",
    "            p = p.parent\n",
    "\n",
    "        return level\n",
    "\n",
    "    def print_tree(self):\n",
    "        spaces = ' ' * self.get_level() * 3\n",
    "        prefix = spaces + \"|__\" if self.parent else \"\"\n",
    "        print(prefix + self.data)\n",
    "        if self.children:\n",
    "            for child in self.children:\n",
    "                child.print_tree()\n",
    "\n",
    "    def add_child(self, child):\n",
    "        child.parent = self\n",
    "        self.children.append(child)\n",
    "\n",
    "def build_product_tree():\n",
    "    root = TreeNode(\"Electronics\")\n",
    "\n",
    "    laptop = TreeNode(\"Laptop\")\n",
    "    laptop.add_child(TreeNode(\"Mac\"))\n",
    "    laptop.add_child(TreeNode(\"Surface\"))\n",
    "    laptop.add_child(TreeNode(\"Thinkpad\"))\n",
    "\n",
    "    cellphone = TreeNode(\"Cell Phone\")\n",
    "    cellphone.add_child(TreeNode(\"iPhone\"))\n",
    "    cellphone.add_child(TreeNode(\"Google Pixel\"))\n",
    "    cellphone.add_child(TreeNode(\"Vivo\"))\n",
    "\n",
    "    tv = TreeNode(\"TV\")\n",
    "    tv.add_child(TreeNode(\"Samsung\"))\n",
    "    tv.add_child(TreeNode(\"LG\"))\n",
    "\n",
    "    root.add_child(laptop)\n",
    "    root.add_child(cellphone)\n",
    "    root.add_child(tv)\n",
    "\n",
    "    root.print_tree()\n",
    "\n",
    "if __name__ == '__main__':\n",
    "    build_product_tree()"
   ]
  },
  {
   "cell_type": "markdown",
   "id": "99016ce1",
   "metadata": {},
   "source": [
    "# <center> Binary Tree </center>"
   ]
  },
  {
   "cell_type": "markdown",
   "id": "af42854d",
   "metadata": {},
   "source": [
    "- A binary tree T is defined as a finite set of elements, called nodes, such that:\n",
    "    <ul>\n",
    "    <li> T is empty (Null/Empty tree)</li>\n",
    "    <li> T contains a distinguished node R, called root of the tree, and the remaining nodes of T form an <b>ordered pair of disjoint binary trees</b>\n",
    "    </ul>\n",
    "- Left/Rght nodes\n",
    "- Binary tree is recursive"
   ]
  },
  {
   "cell_type": "markdown",
   "id": "a8f49da9",
   "metadata": {},
   "source": [
    "## Implementation of Tree DS in Python "
   ]
  },
  {
   "cell_type": "code",
   "execution_count": 7,
   "id": "d5644536",
   "metadata": {},
   "outputs": [],
   "source": [
    "class BinaryTree:\n",
    "    def __init__(self, data):\n",
    "        self.key = data\n",
    "        self.left_child = None\n",
    "        self.right_child = None\n",
    "        \n",
    "    def insert_left_child(self, new_node):\n",
    "        if self.left_child == None:\n",
    "            self.left_child = BinaryTree(new_node)\n",
    "        else:\n",
    "            t = BinaryTree(new_node)\n",
    "            \n",
    "            t.left_child = BinaryTree(new_node)\n",
    "            self.left_child = t\n",
    "    \n",
    "    def insert_right_child(self, new_node):\n",
    "        if self.right_child == None:\n",
    "            self.right_child = BinaryTree(new_node)\n",
    "        else:\n",
    "            t = BinaryTree(new_node)\n",
    "            t.right_child = self.right_child\n",
    "            self.right_child = t\n",
    "    \n",
    "    def get_right_child(self):\n",
    "        return self.right_child\n",
    "    \n",
    "    def get_left_child(self):\n",
    "        return self.left_child\n",
    "    \n",
    "    def get_root_val(self):\n",
    "        return self.key\n",
    "    \n",
    "    def set_root_val(self, new_val):\n",
    "        self.key = new_val\n",
    "        \n",
    "    # preorder traversal in class\n",
    "    def preorder(self):\n",
    "        print(self.key)\n",
    "        if self.left_child:\n",
    "            self.left_child.preorder()\n",
    "        if self.right_child:\n",
    "            self.right_child.preorder()"
   ]
  },
  {
   "cell_type": "code",
   "execution_count": 8,
   "id": "205b1d90",
   "metadata": {},
   "outputs": [
    {
     "name": "stdout",
     "output_type": "stream",
     "text": [
      "root\n",
      "None\n"
     ]
    }
   ],
   "source": [
    "r = BinaryTree(\"root\")\n",
    "print(r.get_root_val())\n",
    "print(r.get_left_child())"
   ]
  },
  {
   "cell_type": "code",
   "execution_count": 9,
   "id": "39a30fa9",
   "metadata": {},
   "outputs": [
    {
     "name": "stdout",
     "output_type": "stream",
     "text": [
      "left\n",
      "<__main__.BinaryTree object at 0x000001D3F533F4F0>\n"
     ]
    }
   ],
   "source": [
    "r.insert_left_child(\"left\")\n",
    "print(r.get_left_child().get_root_val())\n",
    "print(r.get_left_child())"
   ]
  },
  {
   "cell_type": "code",
   "execution_count": 10,
   "id": "752efd6c",
   "metadata": {},
   "outputs": [
    {
     "name": "stdout",
     "output_type": "stream",
     "text": [
      "right\n",
      "<bound method BinaryTree.get_right_child of <__main__.BinaryTree object at 0x000001D3F53312E0>>\n"
     ]
    }
   ],
   "source": [
    "r.insert_right_child(\"right\")\n",
    "print(r.get_right_child().get_root_val())\n",
    "print(r.get_right_child)"
   ]
  },
  {
   "cell_type": "code",
   "execution_count": 11,
   "id": "d0a4f35a",
   "metadata": {},
   "outputs": [
    {
     "name": "stdout",
     "output_type": "stream",
     "text": [
      "new right\n"
     ]
    }
   ],
   "source": [
    "r.get_right_child().set_root_val(\"new right\")\n",
    "print(r.get_right_child().get_root_val())\n"
   ]
  },
  {
   "cell_type": "markdown",
   "id": "e174a8e2",
   "metadata": {},
   "source": [
    "# <center> Travesing Binary Tree </center>"
   ]
  },
  {
   "cell_type": "markdown",
   "id": "3bb658d9",
   "metadata": {},
   "source": [
    "### Preorder Traversal\n",
    "- Process the root\n",
    "- Process left child\n",
    "- Process right child"
   ]
  },
  {
   "cell_type": "code",
   "execution_count": 12,
   "id": "8cfb3015",
   "metadata": {},
   "outputs": [
    {
     "name": "stdout",
     "output_type": "stream",
     "text": [
      "root\n",
      "left\n",
      "new right\n"
     ]
    }
   ],
   "source": [
    "def pre_order(tree):\n",
    "    if tree:\n",
    "        print(tree.get_root_val())\n",
    "        pre_order(tree.get_left_child())\n",
    "        pre_order(tree.get_right_child())\n",
    "        \n",
    "pre_order(r)"
   ]
  },
  {
   "cell_type": "code",
   "execution_count": 13,
   "id": "d137ca7b",
   "metadata": {},
   "outputs": [
    {
     "name": "stdout",
     "output_type": "stream",
     "text": [
      "root\n",
      "left\n",
      "new right\n"
     ]
    }
   ],
   "source": [
    "# class method\n",
    "r.preorder()"
   ]
  },
  {
   "cell_type": "markdown",
   "id": "aaeb1cab",
   "metadata": {},
   "source": [
    "### inorder Traversal\n",
    "\n",
    "- Process left child\n",
    "- Process the root\n",
    "- Process right child"
   ]
  },
  {
   "cell_type": "code",
   "execution_count": 21,
   "id": "0424c1a0",
   "metadata": {},
   "outputs": [
    {
     "name": "stdout",
     "output_type": "stream",
     "text": [
      "left\n",
      "root\n",
      "new right\n"
     ]
    }
   ],
   "source": [
    "def inorder(tree):\n",
    "    if tree != None:\n",
    "        inorder(tree.get_left_child())\n",
    "        print(tree.get_root_val())\n",
    "        inorder(tree.get_right_child())\n",
    "inorder(r)"
   ]
  },
  {
   "cell_type": "markdown",
   "id": "91682cf0",
   "metadata": {},
   "source": [
    "### postorder Traversal\n",
    "\n",
    "- Process left child\n",
    "- Process right child\n",
    "- Process the root"
   ]
  },
  {
   "cell_type": "code",
   "execution_count": 23,
   "id": "f3a0e0de",
   "metadata": {},
   "outputs": [
    {
     "name": "stdout",
     "output_type": "stream",
     "text": [
      "left\n",
      "new right\n",
      "root\n"
     ]
    }
   ],
   "source": [
    "def postorder(tree):\n",
    "    if tree:\n",
    "        postorder(tree.get_left_child())\n",
    "        postorder(tree.get_right_child())\n",
    "        print(tree.get_root_val())\n",
    "postorder"
   ]
  },
  {
   "cell_type": "markdown",
   "id": "d1c9740b",
   "metadata": {},
   "source": [
    "# Complete Binary Tree"
   ]
  },
  {
   "cell_type": "markdown",
   "id": "0481a8a1",
   "metadata": {},
   "source": [
    "- All levels filled\n",
    "- All leaf nodes are at same level\n",
    "\n"
   ]
  },
  {
   "attachments": {
    "complete%20binary%20tree.png": {
     "image/png": "[encoded data removed]"
    }
   },
   "cell_type": "markdown",
   "id": "f5d53e7c",
   "metadata": {},
   "source": [
    "![complete%20binary%20tree.png](attachment:complete%20binary%20tree.png)"
   ]
  },
  {
   "cell_type": "markdown",
   "id": "63875716",
   "metadata": {},
   "source": [
    "# Almost Complete Binary Tree"
   ]
  },
  {
   "cell_type": "markdown",
   "id": "c7f7c94b",
   "metadata": {},
   "source": [
    "- Not necessarily binary (but they can)\n",
    "- Sb-tree containing all the nodes from root to leve d-1(complete binary tree). d is total levels"
   ]
  },
  {
   "attachments": {
    "almost%20complete%20binary%20tree.jpg": {
     "image/jpeg": "[encoded data removed]"
    }
   },
   "cell_type": "markdown",
   "id": "9526f6d8",
   "metadata": {},
   "source": [
    "![almost%20complete%20binary%20tree.jpg](attachment:almost%20complete%20binary%20tree.jpg)"
   ]
  },
  {
   "cell_type": "markdown",
   "id": "dbea2af9",
   "metadata": {},
   "source": [
    "# Strictly binary Tree"
   ]
  },
  {
   "cell_type": "markdown",
   "id": "61aa004c",
   "metadata": {},
   "source": [
    "- Every node has 2 children or no child\n",
    "- Every node either it's a leaf node or it has 2 children"
   ]
  },
  {
   "attachments": {
    "strict%20binary%20tree.png": {
     "image/png": "[encoded data removed]"
    }
   },
   "cell_type": "markdown",
   "id": "0506f701",
   "metadata": {},
   "source": [
    "![strict%20binary%20tree.png](attachment:strict%20binary%20tree.png)"
   ]
  },
  {
   "cell_type": "markdown",
   "id": "6d2a3b92",
   "metadata": {},
   "source": [
    "# Extended Binary Tree"
   ]
  },
  {
   "cell_type": "markdown",
   "id": "3d613d24",
   "metadata": {},
   "source": [
    "- A tree that has been formed into a strict binary tree\n",
    "- <b>External nodes</b> are added to transform\n",
    "- <b>Internal nodes</b> are nodes that were already present in the tree before transformation"
   ]
  },
  {
   "attachments": {
    "extende%20binary%20tree.png": {
     "image/png": "[encoded data removed]"
    }
   },
   "cell_type": "markdown",
   "id": "4d3893b9",
   "metadata": {},
   "source": [
    "![extende%20binary%20tree.png](attachment:extende%20binary%20tree.png)"
   ]
  },
  {
   "cell_type": "markdown",
   "id": "d61fcc6b",
   "metadata": {},
   "source": [
    "# Binary Search Tree"
   ]
  },
  {
   "cell_type": "markdown",
   "id": "b1f56d5e",
   "metadata": {},
   "source": [
    "- Unique values like set data structure\n",
    "- Order\n",
    "- Every left child value < root node\n",
    "- Every right child value > root node\n",
    "- While searching, in every iteration we reduce self space by half"
   ]
  },
  {
   "attachments": {
    "Binary-Search-Tree-Example.png": {
     "image/png": "[encoded data removed]"
    }
   },
   "cell_type": "markdown",
   "id": "ba7dd01b",
   "metadata": {},
   "source": [
    "![Binary-Search-Tree-Example.png](attachment:Binary-Search-Tree-Example.png)"
   ]
  },
  {
   "cell_type": "code",
   "execution_count": 1,
   "id": "5dc932b0",
   "metadata": {},
   "outputs": [
    {
     "name": "stdout",
     "output_type": "stream",
     "text": [
      "[1, 4, 9, 17, 18, 20, 23, 35, 44]\n"
     ]
    }
   ],
   "source": [
    "class BinarySearchTree:\n",
    "    def __init__(self, data):\n",
    "        self.data = data\n",
    "        self.left = None\n",
    "        self.right = None\n",
    "        \n",
    "    def add_child(self, data):\n",
    "        if self.data == data:\n",
    "            return\n",
    "        if data < self.data:\n",
    "            if self.left:\n",
    "                self.left.add_child(data)\n",
    "            else:\n",
    "                self.left = BinarySearchTree(data)\n",
    "        else:\n",
    "            if self.right:\n",
    "                self.right.add_child(data)\n",
    "            else:\n",
    "                self.right = BinarySearchTree(data)\n",
    "                \n",
    "    def inorder_traversal(self):\n",
    "        elements = []\n",
    "        if self.left:\n",
    "            elements += self.left.inorder_traversal()\n",
    "        elements.append(self.data)\n",
    "        if self.right:\n",
    "            elements +=self.right.inorder_traversal()\n",
    "        return elements\n",
    "    \n",
    "    def search(self, value):\n",
    "        if value == self.data:\n",
    "            return True\n",
    "        if value < self.data:\n",
    "            if self.left:\n",
    "                return self.left.search(value)\n",
    "            else:\n",
    "                return False\n",
    "        else:\n",
    "            if self.right:\n",
    "                return self.right.search(value)\n",
    "            else:\n",
    "                return False\n",
    "            \n",
    "    def find_max(self):\n",
    "        if self.right == None:\n",
    "            return self.data\n",
    "        else:\n",
    "            self.right.find_max()\n",
    "            \n",
    "    def find_min(self):\n",
    "        if self.left == None:\n",
    "            return self.data\n",
    "        else:\n",
    "            self.left.find_min()\n",
    "            \n",
    "#     def insert(self, value):\n",
    "#         temp = self\n",
    "        \n",
    "#         while temp:\n",
    "#             if value < temp.data:\n",
    "#                 if temp.left == None:\n",
    "#                     temp.left = value\n",
    "#                 else:\n",
    "#                     temp = temp.left\n",
    "#             if value > temp.data:\n",
    "#                 if temp.right == None:\n",
    "#                     temp.right = value\n",
    "#                 else:\n",
    "#                     temp = temp.right\n",
    "#         return \n",
    "            \n",
    "    def delete(self, value):\n",
    "        \n",
    "        if value<self.data:\n",
    "            if self.left:\n",
    "                self.left = self.left.delete(value)\n",
    "        elif value>self.data:\n",
    "            if self.right:\n",
    "                self.right = self.right.delete(value)\n",
    "        else:\n",
    "            if self.right==None and self.left==None:\n",
    "                return None\n",
    "            if self.right == None:\n",
    "                return self.left\n",
    "            if self.left == None:\n",
    "                return self.right\n",
    "            \n",
    "            min_val = self.right.find_min()\n",
    "            self.data = min_val\n",
    "            self.right = self.right.delete(min_val)\n",
    "        return self\n",
    "    \n",
    "    \n",
    "def build_bst(elements):\n",
    "    t = BinarySearchTree(elements[0])\n",
    "    \n",
    "    for i in range(1, len(elements)):\n",
    "        t.add_child(elements[i])\n",
    "    return t\n",
    "if __name__ == \"__main__\":\n",
    "    numbers = [17, 4, 1, 20, 9, 23, 18, 35, 44, 44, 44]\n",
    "    numbers_tree = build_bst(numbers)\n",
    "    print(numbers_tree.inorder_traversal())"
   ]
  },
  {
   "cell_type": "code",
   "execution_count": 2,
   "id": "af56c9ed",
   "metadata": {},
   "outputs": [
    {
     "data": {
      "text/plain": [
       "False"
      ]
     },
     "execution_count": 2,
     "metadata": {},
     "output_type": "execute_result"
    }
   ],
   "source": [
    "numbers_tree.search(3)"
   ]
  },
  {
   "cell_type": "code",
   "execution_count": 3,
   "id": "62d0627c",
   "metadata": {},
   "outputs": [
    {
     "ename": "AttributeError",
     "evalue": "'int' object has no attribute 'data'",
     "output_type": "error",
     "traceback": [
      "\u001b[1;31m---------------------------------------------------------------------------\u001b[0m",
      "\u001b[1;31mAttributeError\u001b[0m                            Traceback (most recent call last)",
      "\u001b[1;32m~\\AppData\\Local\\Temp/ipykernel_3328/272833399.py\u001b[0m in \u001b[0;36m<module>\u001b[1;34m\u001b[0m\n\u001b[1;32m----> 1\u001b[1;33m \u001b[0mnumbers_tree\u001b[0m\u001b[1;33m.\u001b[0m\u001b[0minsert\u001b[0m\u001b[1;33m(\u001b[0m\u001b[1;36m3\u001b[0m\u001b[1;33m)\u001b[0m\u001b[1;33m\u001b[0m\u001b[1;33m\u001b[0m\u001b[0m\n\u001b[0m",
      "\u001b[1;32m~\\AppData\\Local\\Temp/ipykernel_3328/364942285.py\u001b[0m in \u001b[0;36minsert\u001b[1;34m(self, value)\u001b[0m\n\u001b[0;32m     58\u001b[0m \u001b[1;33m\u001b[0m\u001b[0m\n\u001b[0;32m     59\u001b[0m         \u001b[1;32mwhile\u001b[0m \u001b[0mtemp\u001b[0m\u001b[1;33m:\u001b[0m\u001b[1;33m\u001b[0m\u001b[1;33m\u001b[0m\u001b[0m\n\u001b[1;32m---> 60\u001b[1;33m             \u001b[1;32mif\u001b[0m \u001b[0mvalue\u001b[0m \u001b[1;33m<\u001b[0m \u001b[0mtemp\u001b[0m\u001b[1;33m.\u001b[0m\u001b[0mdata\u001b[0m\u001b[1;33m:\u001b[0m\u001b[1;33m\u001b[0m\u001b[1;33m\u001b[0m\u001b[0m\n\u001b[0m\u001b[0;32m     61\u001b[0m                 \u001b[1;32mif\u001b[0m \u001b[0mtemp\u001b[0m\u001b[1;33m.\u001b[0m\u001b[0mleft\u001b[0m \u001b[1;33m==\u001b[0m \u001b[1;32mNone\u001b[0m\u001b[1;33m:\u001b[0m\u001b[1;33m\u001b[0m\u001b[1;33m\u001b[0m\u001b[0m\n\u001b[0;32m     62\u001b[0m                     \u001b[0mtemp\u001b[0m\u001b[1;33m.\u001b[0m\u001b[0mleft\u001b[0m \u001b[1;33m=\u001b[0m \u001b[0mvalue\u001b[0m\u001b[1;33m\u001b[0m\u001b[1;33m\u001b[0m\u001b[0m\n",
      "\u001b[1;31mAttributeError\u001b[0m: 'int' object has no attribute 'data'"
     ]
    }
   ],
   "source": [
    "numbers_tree.insert(3)"
   ]
  },
  {
   "cell_type": "code",
   "execution_count": 4,
   "id": "315c8a8e",
   "metadata": {},
   "outputs": [
    {
     "data": {
      "text/plain": [
       "17"
      ]
     },
     "execution_count": 4,
     "metadata": {},
     "output_type": "execute_result"
    }
   ],
   "source": [
    "numbers_tree.data"
   ]
  },
  {
   "cell_type": "code",
   "execution_count": 18,
   "id": "be08d84d",
   "metadata": {},
   "outputs": [
    {
     "data": {
      "text/plain": [
       "True"
      ]
     },
     "execution_count": 18,
     "metadata": {},
     "output_type": "execute_result"
    }
   ],
   "source": [
    "numbers_tree.search(35)"
   ]
  },
  {
   "cell_type": "code",
   "execution_count": 21,
   "id": "a1f5ca3d",
   "metadata": {},
   "outputs": [
    {
     "name": "stdout",
     "output_type": "stream",
     "text": [
      "before deleting  [1, 4, 9, 17, 18, 23, 35, 44]\n",
      "After deletion  [1, 4, 17, 18, 23, 35, 44]\n"
     ]
    }
   ],
   "source": [
    "print(\"before deleting \", numbers_tree.inorder_traversal())\n",
    "numbers_tree.delete(9)\n",
    "print(\"After deletion \", numbers_tree.inorder_traversal())"
   ]
  },
  {
   "cell_type": "code",
   "execution_count": 16,
   "id": "9185098e",
   "metadata": {},
   "outputs": [
    {
     "data": {
      "text/plain": [
       "['China', 'India', 'Nepal', 'Pakistan', 'sri Lanka']"
      ]
     },
     "execution_count": 16,
     "metadata": {},
     "output_type": "execute_result"
    }
   ],
   "source": [
    "countries = [\"China\", \"Pakistan\", \"India\", \"sri Lanka\", \"Nepal\"]\n",
    "countries_tree = build_bst(countries)\n",
    "countries_tree.inorder_traversal()"
   ]
  },
  {
   "cell_type": "code",
   "execution_count": 17,
   "id": "4145ffde",
   "metadata": {},
   "outputs": [
    {
     "name": "stdout",
     "output_type": "stream",
     "text": [
      "Sweeden False\n"
     ]
    },
    {
     "data": {
      "text/plain": [
       "True"
      ]
     },
     "execution_count": 17,
     "metadata": {},
     "output_type": "execute_result"
    }
   ],
   "source": [
    "print(\"Sweeden\", countries_tree.search(\"sweedan\"))\n",
    "countries_tree.search(\"Pakistan\")"
   ]
  },
  {
   "cell_type": "code",
   "execution_count": null,
   "id": "1207e396",
   "metadata": {},
   "outputs": [],
   "source": []
  }
 ],
 "metadata": {
  "kernelspec": {
   "display_name": "Python 3 (ipykernel)",
   "language": "python",
   "name": "python3"
  },
  "language_info": {
   "codemirror_mode": {
    "name": "ipython",
    "version": 3
   },
   "file_extension": ".py",
   "mimetype": "text/x-python",
   "name": "python",
   "nbconvert_exporter": "python",
   "pygments_lexer": "ipython3",
   "version": "3.9.7"
  }
 },
 "nbformat": 4,
 "nbformat_minor": 5
}
