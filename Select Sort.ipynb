{
 "cells": [
  {
   "cell_type": "markdown",
   "id": "92a43d22",
   "metadata": {},
   "source": [
    "# <center> Select Sort </center>"
   ]
  },
  {
   "cell_type": "markdown",
   "id": "f0c13a90",
   "metadata": {},
   "source": [
    "- Pick min of array\n",
    "- put min value at index 1, 2, 3, n-1 in every loop"
   ]
  },
  {
   "cell_type": "code",
   "execution_count": 61,
   "id": "2a3e3a85",
   "metadata": {},
   "outputs": [],
   "source": [
    "def minimuim_index(arr):\n",
    "    minimum_id = 0\n",
    "    for i in range(len(arr)):        \n",
    "        if arr[minimum_id] > arr[i]:           \n",
    "            minimum_id = i\n",
    "    return minimum_id\n",
    "\n",
    "\n",
    "def selectSort(arr):\n",
    "    n = len(arr)\n",
    "    current_index = 0\n",
    "    for i in range(n):\n",
    "        min_ind = minimuim_index(arr[i:])\n",
    "        arr[i], arr[i+min_ind] = arr[i+min_ind], arr[i]\n",
    "    return arr "
   ]
  },
  {
   "cell_type": "code",
   "execution_count": 64,
   "id": "46d4c74c",
   "metadata": {},
   "outputs": [
    {
     "data": {
      "text/plain": [
       "[1, 2, 2, 3, 5, 77]"
      ]
     },
     "execution_count": 64,
     "metadata": {},
     "output_type": "execute_result"
    }
   ],
   "source": [
    "selectSort([ 1, 2, 2, 3, 5 ,77])"
   ]
  },
  {
   "cell_type": "code",
   "execution_count": null,
   "id": "392244c7",
   "metadata": {},
   "outputs": [],
   "source": []
  }
 ],
 "metadata": {
  "kernelspec": {
   "display_name": "Python 3 (ipykernel)",
   "language": "python",
   "name": "python3"
  },
  "language_info": {
   "codemirror_mode": {
    "name": "ipython",
    "version": 3
   },
   "file_extension": ".py",
   "mimetype": "text/x-python",
   "name": "python",
   "nbconvert_exporter": "python",
   "pygments_lexer": "ipython3",
   "version": "3.9.7"
  }
 },
 "nbformat": 4,
 "nbformat_minor": 5
}
