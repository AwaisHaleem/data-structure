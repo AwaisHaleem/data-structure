{
 "cells": [
  {
   "cell_type": "markdown",
   "id": "9f4e84e9",
   "metadata": {},
   "source": [
    "# <center> Counting Sort</center>"
   ]
  },
  {
   "cell_type": "markdown",
   "id": "7acf863e",
   "metadata": {},
   "source": [
    "- Sort an array by counting the number of occurences of each unique element in the array\n",
    "- Not a comparison sort algorithm\n",
    "- O(n)"
   ]
  },
  {
   "cell_type": "code",
   "execution_count": 11,
   "id": "a59b6e0d",
   "metadata": {},
   "outputs": [],
   "source": [
    "def coutn_sort(l):\n",
    "    size = len(l)\n",
    "    output = [0]*size\n",
    "    count = [0] * 10\n",
    "    \n",
    "    for i in l:\n",
    "        count[i] = count[i] + 1\n",
    "        \n",
    "    for j in range(1, len(count)):\n",
    "        count[j] = count[j] + count[j-1]\n",
    "        \n",
    "    a = size - 1\n",
    "    \n",
    "    while a >=0:\n",
    "        output[count[l[a]]-1] = l[a]\n",
    "        count[l[a]] = count[l[a]] - 1\n",
    "        a -= 1\n",
    "        \n",
    "    return output"
   ]
  },
  {
   "cell_type": "code",
   "execution_count": 12,
   "id": "d313d843",
   "metadata": {},
   "outputs": [
    {
     "data": {
      "text/plain": [
       "[3, 4, 4, 4, 5, 5, 5, 6, 6, 7, 7, 8, 8, 9, 9]"
      ]
     },
     "execution_count": 12,
     "metadata": {},
     "output_type": "execute_result"
    }
   ],
   "source": [
    "coutn_sort([5, 9, 4, 5, 3, 6, 8, 5, 4, 8, 7, 4, 6, 9, 7])"
   ]
  }
 ],
 "metadata": {
  "kernelspec": {
   "display_name": "Python 3 (ipykernel)",
   "language": "python",
   "name": "python3"
  },
  "language_info": {
   "codemirror_mode": {
    "name": "ipython",
    "version": 3
   },
   "file_extension": ".py",
   "mimetype": "text/x-python",
   "name": "python",
   "nbconvert_exporter": "python",
   "pygments_lexer": "ipython3",
   "version": "3.9.7"
  }
 },
 "nbformat": 4,
 "nbformat_minor": 5
}
