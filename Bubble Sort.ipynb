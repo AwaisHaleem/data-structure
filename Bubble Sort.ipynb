{
 "cells": [
  {
   "cell_type": "markdown",
   "id": "d8edd590",
   "metadata": {},
   "source": [
    "# <center> Bubble Sort</center>"
   ]
  },
  {
   "cell_type": "markdown",
   "id": "a80cdf40",
   "metadata": {},
   "source": [
    "# Sorting"
   ]
  },
  {
   "cell_type": "markdown",
   "id": "b75fdcf5",
   "metadata": {},
   "source": [
    "- Arranging the data in some logical order\n",
    "- This logical error can be ascending or decending in case of numeric values or ditionary order in case of alphanumeric values\n",
    "- <u> Types</u> <ul>\n",
    "    <li> Internal Sorting - While whole data in RAM and sorting takes place\n",
    "        simultanously</li>\n",
    "    <li> External Sorting</li>- While data is too big to sort simultanously in RAM, some different approaches are applied to sort the data </li>"
   ]
  },
  {
   "cell_type": "markdown",
   "id": "bbd0c021",
   "metadata": {},
   "source": [
    "# Bubble Sort "
   ]
  },
  {
   "cell_type": "markdown",
   "id": "56b99548",
   "metadata": {},
   "source": [
    "- Compare first two elements\n",
    "- One round/pass comparisons are N-1\n",
    "- Total Rounds of comparisons N-1\n",
    "- O(n<sup>2</sup>)"
   ]
  },
  {
   "cell_type": "code",
   "execution_count": 14,
   "id": "fafbb505",
   "metadata": {},
   "outputs": [],
   "source": [
    "def bubbleSort(arr):\n",
    "    comparisons = len(arr)\n",
    "    for round in range(len(arr) - 1):\n",
    "        comparisons -= 1 # after every loop, one last element is sorted \n",
    "                         #and we have to compare only before\n",
    "                         #that sorted element\n",
    "        for index in range(comparisons):\n",
    "            \n",
    "            if arr[index] > arr[index+1]:\n",
    "                arr[index], arr[index+1] = arr[index+1], arr[index]\n",
    "    return arr\n",
    "    "
   ]
  },
  {
   "cell_type": "code",
   "execution_count": 13,
   "id": "30d235a3",
   "metadata": {},
   "outputs": [
    {
     "data": {
      "text/plain": [
       "[1, 2, 2, 3, 3, 5]"
      ]
     },
     "execution_count": 13,
     "metadata": {},
     "output_type": "execute_result"
    }
   ],
   "source": [
    "bubbleSort([2, 3, 5, 2, 3, 1])"
   ]
  },
  {
   "cell_type": "markdown",
   "id": "314cd1c4",
   "metadata": {},
   "source": [
    "# Modified Bubble Sort "
   ]
  },
  {
   "cell_type": "markdown",
   "id": "b3621e17",
   "metadata": {},
   "source": [
    "- Bubble sort takes constant loops n<sup>2</sup>  to sort an array even if it was sorted after some rounds.\n",
    "- If array is sorted, we break the loop even lopps are not completed"
   ]
  },
  {
   "cell_type": "code",
   "execution_count": 21,
   "id": "1f794f8e",
   "metadata": {},
   "outputs": [],
   "source": [
    "def bubbleSort(arr):\n",
    "    comparison = len(arr)\n",
    "    for round in range(len(arr)-1):\n",
    "        comparison -=1\n",
    "        flag = 0\n",
    "        print(f\"remaining coparisons {comparison}\")\n",
    "        for i in range(comparison):\n",
    "            if arr[i] > arr[i+1]:\n",
    "                flag = 1\n",
    "                arr[i], arr[i+1] = arr[i+1], arr[i]\n",
    "        if flag == 0:\n",
    "            return arr\n",
    "    return arr"
   ]
  },
  {
   "cell_type": "code",
   "execution_count": 23,
   "id": "97a0258c",
   "metadata": {},
   "outputs": [
    {
     "name": "stdout",
     "output_type": "stream",
     "text": [
      "remaining coparisons 5\n",
      "remaining coparisons 4\n"
     ]
    },
    {
     "data": {
      "text/plain": [
       "[2, 3, 4, 5, 6, 10]"
      ]
     },
     "execution_count": 23,
     "metadata": {},
     "output_type": "execute_result"
    }
   ],
   "source": [
    "bubbleSort([10, 2, 3, 4, 5, 6])"
   ]
  },
  {
   "cell_type": "code",
   "execution_count": null,
   "id": "9837198c",
   "metadata": {},
   "outputs": [],
   "source": []
  },
  {
   "cell_type": "code",
   "execution_count": null,
   "id": "2c203801",
   "metadata": {},
   "outputs": [],
   "source": []
  }
 ],
 "metadata": {
  "kernelspec": {
   "display_name": "Python 3 (ipykernel)",
   "language": "python",
   "name": "python3"
  },
  "language_info": {
   "codemirror_mode": {
    "name": "ipython",
    "version": 3
   },
   "file_extension": ".py",
   "mimetype": "text/x-python",
   "name": "python",
   "nbconvert_exporter": "python",
   "pygments_lexer": "ipython3",
   "version": "3.9.7"
  }
 },
 "nbformat": 4,
 "nbformat_minor": 5
}
