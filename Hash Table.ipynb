{
 "cells": [
  {
   "cell_type": "markdown",
   "id": "a349c197",
   "metadata": {},
   "source": [
    "# <center> Hash Table</center>"
   ]
  },
  {
   "cell_type": "markdown",
   "id": "e3aecb83",
   "metadata": {},
   "source": [
    "- To store key/value pairs, we can use simple arra like structure where keys can be used as index to store values\n",
    "- In case when keys are large and can't be directly used as index to store value, we can use technique of <b>hashing</b>\n",
    "- <b> Hash Table</b> mostly is an array to store the dataset. It is the data structure\n",
    "- A <b> Hash Function</b> is any fucntion that can be used to map a dataset of arbitrary size to dataset of fixed sized which falls into the hash table\n",
    "- <b> Hash Function </b> usually means that compresses, means the output is shorter than input\n",
    "- Values returned by a <b> Hash Function are called hash values/codes or simply hashes</b>\n",
    "- In <b> Hashing </b> large keys are converted into small ones by using Hash Fuction and then values are stored in Hash Table\n",
    "- Parameters of good hash fucntion <ul>\n",
    "    <li>Easy to compute </li>\n",
    "    <li>Even Distribution </li>\n",
    "    <li>Minimize Collisions </li>\n",
    "    </ul>\n",
    "- <b> Perfect Hashing</b> maps each valid input to a different hash value (no collision)\n",
    "- <b> Binning</b> is used for evenly distribution in hash table\n",
    "- Some Hash Functions<ul>\n",
    "    <li>Input % 10/100/1000 </li>\n",
    "    <li>Sum(ASCII no of Input) % 10 </li>"
   ]
  },
  {
   "cell_type": "code",
   "execution_count": 23,
   "id": "c1c35c65",
   "metadata": {},
   "outputs": [],
   "source": [
    "class HashTable:\n",
    "    def __init__(self):\n",
    "        self.max = 100\n",
    "        self.arr = [None for i in range(self.max)]\n",
    "        \n",
    "    def get_hash(self, key):\n",
    "        h = 0\n",
    "        for char in key:\n",
    "            h += ord(char)\n",
    "        return h%100\n",
    "    \n",
    "    def __setitem__(self, key, value):\n",
    "        self.arr[self.get_hash(key)] = value\n",
    "        \n",
    "    def __getitem__(self, key):\n",
    "        return self.arr[self.get_hash(key)]\n",
    "    \n",
    "    def __delitem__(self, key):\n",
    "        self.arr[self.get_hash(key)] = None\n",
    "    "
   ]
  },
  {
   "cell_type": "code",
   "execution_count": 26,
   "id": "27fd2c30",
   "metadata": {},
   "outputs": [],
   "source": [
    "ht = HashTable()\n",
    "ht[\"march 5\"] = 133\n",
    "ht[\"march 3\"] = 3\n",
    "ht[\"march 6\"] = 66\n",
    "ht[\"march 7\"] = 13\n",
    "ht[\"march 8\"] = 2"
   ]
  },
  {
   "cell_type": "code",
   "execution_count": 27,
   "id": "76385a4b",
   "metadata": {},
   "outputs": [
    {
     "data": {
      "text/plain": [
       "[None,\n",
       " None,\n",
       " None,\n",
       " None,\n",
       " None,\n",
       " None,\n",
       " 3,\n",
       " None,\n",
       " 133,\n",
       " 66,\n",
       " 13,\n",
       " 2,\n",
       " None,\n",
       " None,\n",
       " None,\n",
       " None,\n",
       " None,\n",
       " None,\n",
       " None,\n",
       " None,\n",
       " None,\n",
       " None,\n",
       " None,\n",
       " None,\n",
       " None,\n",
       " None,\n",
       " None,\n",
       " None,\n",
       " None,\n",
       " None,\n",
       " None,\n",
       " None,\n",
       " None,\n",
       " None,\n",
       " None,\n",
       " None,\n",
       " None,\n",
       " None,\n",
       " None,\n",
       " None,\n",
       " None,\n",
       " None,\n",
       " None,\n",
       " None,\n",
       " None,\n",
       " None,\n",
       " None,\n",
       " None,\n",
       " None,\n",
       " None,\n",
       " None,\n",
       " None,\n",
       " None,\n",
       " None,\n",
       " None,\n",
       " None,\n",
       " None,\n",
       " None,\n",
       " None,\n",
       " None,\n",
       " None,\n",
       " None,\n",
       " None,\n",
       " None,\n",
       " None,\n",
       " None,\n",
       " None,\n",
       " None,\n",
       " None,\n",
       " None,\n",
       " None,\n",
       " None,\n",
       " None,\n",
       " None,\n",
       " None,\n",
       " None,\n",
       " None,\n",
       " None,\n",
       " None,\n",
       " None,\n",
       " None,\n",
       " None,\n",
       " None,\n",
       " None,\n",
       " None,\n",
       " None,\n",
       " None,\n",
       " None,\n",
       " None,\n",
       " None,\n",
       " None,\n",
       " None,\n",
       " None,\n",
       " None,\n",
       " None,\n",
       " None,\n",
       " None,\n",
       " None,\n",
       " None,\n",
       " None]"
      ]
     },
     "execution_count": 27,
     "metadata": {},
     "output_type": "execute_result"
    }
   ],
   "source": [
    "ht.arr"
   ]
  },
  {
   "cell_type": "code",
   "execution_count": 28,
   "id": "54d401d7",
   "metadata": {},
   "outputs": [],
   "source": [
    "del ht[\"march 3\"]"
   ]
  },
  {
   "cell_type": "code",
   "execution_count": 29,
   "id": "36689cb2",
   "metadata": {},
   "outputs": [
    {
     "data": {
      "text/plain": [
       "[None,\n",
       " None,\n",
       " None,\n",
       " None,\n",
       " None,\n",
       " None,\n",
       " None,\n",
       " None,\n",
       " 133,\n",
       " 66,\n",
       " 13,\n",
       " 2,\n",
       " None,\n",
       " None,\n",
       " None,\n",
       " None,\n",
       " None,\n",
       " None,\n",
       " None,\n",
       " None,\n",
       " None,\n",
       " None,\n",
       " None,\n",
       " None,\n",
       " None,\n",
       " None,\n",
       " None,\n",
       " None,\n",
       " None,\n",
       " None,\n",
       " None,\n",
       " None,\n",
       " None,\n",
       " None,\n",
       " None,\n",
       " None,\n",
       " None,\n",
       " None,\n",
       " None,\n",
       " None,\n",
       " None,\n",
       " None,\n",
       " None,\n",
       " None,\n",
       " None,\n",
       " None,\n",
       " None,\n",
       " None,\n",
       " None,\n",
       " None,\n",
       " None,\n",
       " None,\n",
       " None,\n",
       " None,\n",
       " None,\n",
       " None,\n",
       " None,\n",
       " None,\n",
       " None,\n",
       " None,\n",
       " None,\n",
       " None,\n",
       " None,\n",
       " None,\n",
       " None,\n",
       " None,\n",
       " None,\n",
       " None,\n",
       " None,\n",
       " None,\n",
       " None,\n",
       " None,\n",
       " None,\n",
       " None,\n",
       " None,\n",
       " None,\n",
       " None,\n",
       " None,\n",
       " None,\n",
       " None,\n",
       " None,\n",
       " None,\n",
       " None,\n",
       " None,\n",
       " None,\n",
       " None,\n",
       " None,\n",
       " None,\n",
       " None,\n",
       " None,\n",
       " None,\n",
       " None,\n",
       " None,\n",
       " None,\n",
       " None,\n",
       " None,\n",
       " None,\n",
       " None,\n",
       " None,\n",
       " None]"
      ]
     },
     "execution_count": 29,
     "metadata": {},
     "output_type": "execute_result"
    }
   ],
   "source": [
    "ht.arr"
   ]
  },
  {
   "cell_type": "markdown",
   "id": "172894a6",
   "metadata": {},
   "source": [
    "# <center> Collosion Resolution in Hashing</center>"
   ]
  },
  {
   "cell_type": "markdown",
   "id": "8e633f13",
   "metadata": {},
   "source": [
    "- A situation when the <b>resultant hashes</b> for one or more elements in the dataset, <b>maps to the same location</b> in the Hash Table, is claslled Hash Collosion\n",
    "- Collosion Resolution types <ul>\n",
    "    <li><u>Open Hashing</u> (Chaining)\n",
    "    - Collisions are stored outside the table\n",
    "    - A pointer is stored that is the head of linked list</li>\n",
    "    <li><u>Close Hashing</u> (Open Addressing)\n",
    "    - Collosion results are stored one of the records at another slot in the Hash Table (Closed Hashing)</li>\n",
    "    <ol> <li>Linear Hashing</li> \n",
    "        <ul> <li>i+1 </li>\n",
    "            <li>i+2 </li>\n",
    "            <li>i+3 </li> </ul> \n",
    "             <li>Quadratic Hashing</li> \n",
    "        <ul> <li>i+1 </li>\n",
    "            <li>i+4 </li>\n",
    "            <li>i+9 </li> </ul> \n",
    "  <li>Double Hashing</li> \n",
    "        <ul> <li>i+5 </li>\n",
    "            <li>i+10 </li>\n",
    "            <li>i+15 </li> </ul> </ol>\n",
    "    </ul>"
   ]
  },
  {
   "cell_type": "code",
   "execution_count": 28,
   "id": "eedb8057",
   "metadata": {},
   "outputs": [],
   "source": [
    "class HashTable:\n",
    "    def __init__(self):\n",
    "        self.max = 10\n",
    "        self.arr = [[] for i in range(self.max)]\n",
    "        \n",
    "    def get_hash(self, key):\n",
    "        h = 0\n",
    "        for char in key:\n",
    "            h += ord(char)\n",
    "        return h%10\n",
    "    \n",
    "    def __setitem__(self, key, value):\n",
    "        h = self.get_hash(key)\n",
    "        found = False\n",
    "        \n",
    "        for idx, element in enumerate(self.arr[h]):\n",
    "            if len(element) == 2 and element[0] == key:\n",
    "                self.arr[h][idx] = (key, value)\n",
    "                found = True\n",
    "                break\n",
    "        if not found:\n",
    "            self.arr[h].append((key, value))\n",
    "        \n",
    "    def __getitem__(self, key):\n",
    "        h = self.get_hash(key)\n",
    "        \n",
    "        for element in self.arr[h]:\n",
    "            if element[0] == key:\n",
    "                return element[1]\n",
    "        return \"Key is not in HT\"\n",
    "    \n",
    "    def __delitem__(self, key):\n",
    "        h = self.get_hash(key)\n",
    "        \n",
    "        for idx, element in enumerate(self.arr[h]):\n",
    "            if element[0] == key:\n",
    "                del self.arr[h][idx]"
   ]
  },
  {
   "cell_type": "code",
   "execution_count": 29,
   "id": "ea9b3e80",
   "metadata": {},
   "outputs": [],
   "source": [
    "h = HashTable()"
   ]
  },
  {
   "cell_type": "code",
   "execution_count": 30,
   "id": "661ad200",
   "metadata": {},
   "outputs": [],
   "source": [
    "h[\"march, 6\"] = 1\n",
    "h[\"march, 6\"] = 2\n",
    "h[\"march, 8\"] = 3\n",
    "h[\"march, 9\"] = 4\n",
    "h[\"march, 17\"] = 5"
   ]
  },
  {
   "cell_type": "code",
   "execution_count": 31,
   "id": "0221e475",
   "metadata": {},
   "outputs": [
    {
     "data": {
      "text/plain": [
       "2"
      ]
     },
     "execution_count": 31,
     "metadata": {},
     "output_type": "execute_result"
    }
   ],
   "source": [
    "h[\"march, 6\"]"
   ]
  },
  {
   "cell_type": "code",
   "execution_count": 32,
   "id": "df73ecc2",
   "metadata": {},
   "outputs": [
    {
     "data": {
      "text/plain": [
       "[[],\n",
       " [],\n",
       " [],\n",
       " [('march, 6', 2), ('march, 17', 5)],\n",
       " [],\n",
       " [('march, 8', 3)],\n",
       " [('march, 9', 4)],\n",
       " [],\n",
       " [],\n",
       " []]"
      ]
     },
     "execution_count": 32,
     "metadata": {},
     "output_type": "execute_result"
    }
   ],
   "source": [
    "h.arr"
   ]
  },
  {
   "cell_type": "code",
   "execution_count": 35,
   "id": "8d4f898c",
   "metadata": {},
   "outputs": [],
   "source": [
    "del h[\"march, 17\"]"
   ]
  },
  {
   "cell_type": "code",
   "execution_count": 36,
   "id": "49a51708",
   "metadata": {},
   "outputs": [
    {
     "data": {
      "text/plain": [
       "[[],\n",
       " [],\n",
       " [],\n",
       " [('march, 6', 2)],\n",
       " [],\n",
       " [('march, 8', 3)],\n",
       " [('march, 9', 4)],\n",
       " [],\n",
       " [],\n",
       " []]"
      ]
     },
     "execution_count": 36,
     "metadata": {},
     "output_type": "execute_result"
    }
   ],
   "source": [
    "h.arr"
   ]
  },
  {
   "cell_type": "code",
   "execution_count": 37,
   "id": "065b0638",
   "metadata": {},
   "outputs": [],
   "source": [
    "del h[\"march, 6\"]"
   ]
  },
  {
   "cell_type": "code",
   "execution_count": 38,
   "id": "85b09bc5",
   "metadata": {},
   "outputs": [
    {
     "data": {
      "text/plain": [
       "[[], [], [], [], [], [('march, 8', 3)], [('march, 9', 4)], [], [], []]"
      ]
     },
     "execution_count": 38,
     "metadata": {},
     "output_type": "execute_result"
    }
   ],
   "source": [
    "h.arr"
   ]
  },
  {
   "cell_type": "code",
   "execution_count": null,
   "id": "374c258b",
   "metadata": {},
   "outputs": [],
   "source": []
  }
 ],
 "metadata": {
  "kernelspec": {
   "display_name": "Python 3 (ipykernel)",
   "language": "python",
   "name": "python3"
  },
  "language_info": {
   "codemirror_mode": {
    "name": "ipython",
    "version": 3
   },
   "file_extension": ".py",
   "mimetype": "text/x-python",
   "name": "python",
   "nbconvert_exporter": "python",
   "pygments_lexer": "ipython3",
   "version": "3.9.7"
  }
 },
 "nbformat": 4,
 "nbformat_minor": 5
}
