{
 "cells": [
  {
   "cell_type": "markdown",
   "id": "3cec451c",
   "metadata": {},
   "source": [
    "# <center> Linked List <center>"
   ]
  },
  {
   "cell_type": "markdown",
   "id": "bfc0e501",
   "metadata": {},
   "source": [
    "- DS used for storing collections of data\n",
    "- Linear collection of data\n",
    "- Elements are stored at random locations of memory\n",
    "- Scccessive elements are connected with pointers\n",
    "- Last element points to None\n",
    "- Start pointer is None if Linked list is empty ; if it should not be kept None, it would save gargage value\n",
    "- It can be grow or shrink during execution\n",
    "- Insertion is very easy\n",
    "- Don't need to pre-allocate memory\n",
    "- Does not waste memory/memory wastage reduce\n",
    "- Each information set is Node in Linked list\n",
    "- ADT"
   ]
  },
  {
   "cell_type": "code",
   "execution_count": 65,
   "id": "90da5438",
   "metadata": {},
   "outputs": [
    {
     "name": "stdout",
     "output_type": "stream",
     "text": [
      "7-->hhhh-->4-->\n"
     ]
    }
   ],
   "source": [
    "class Node:\n",
    "    def __init__(self, ndata=None, pointer=None):\n",
    "        self.ndata = ndata\n",
    "        self.pointer = pointer\n",
    "        \n",
    "class LinkedList:\n",
    "    def __init__(self):\n",
    "        self.head = None\n",
    "        \n",
    "    def insert_at_begining(self, data):\n",
    "        node = Node(data, self.head)\n",
    "        self.head = node\n",
    "        \n",
    "    def insert_at_end(self, data):\n",
    "        if self.head is None:\n",
    "            self.head = Node(data, None)\n",
    "            return\n",
    "        \n",
    "        itr = self.head\n",
    "        while itr.pointer:\n",
    "            itr = itr.pointer\n",
    "        itr.pointer = Node(data, None)\n",
    "    \n",
    "    def insert_values(self, data_list):\n",
    "        self.head = None\n",
    "        for data in data_list:\n",
    "            self.insert_at_end(data)   \n",
    "    \n",
    "    def insert_at(self, index, data):\n",
    "            if index < 0 or index >= self.get_length():\n",
    "                raise Exception(\"Invalid index\")\n",
    "            if index == 0:\n",
    "                self.insert_at_begining(data)\n",
    "                return\n",
    "            \n",
    "            count = 0\n",
    "            itr = self.head\n",
    "            while itr:\n",
    "                if index-1 == count:\n",
    "                    node = Node(data, itr.pointer)\n",
    "                    itr.pointer = node\n",
    "                    break\n",
    "                count += 1\n",
    "                itr = itr.pointer\n",
    "    \n",
    "\n",
    "    def remove_at(self, index):\n",
    "        if index < 0 or index >= self.get_length():\n",
    "            raise Exception(\"Invalid index\")\n",
    "        if index == 0:\n",
    "            self.head = self.head.pointer\n",
    "            return\n",
    "        \n",
    "        count = 0\n",
    "        itr = self.head        \n",
    "        while itr:\n",
    "            if index - 1 == count:\n",
    "                itr.pointer = itr.pointer.pointer\n",
    "                break\n",
    "                \n",
    "            count += 1\n",
    "            itr = itr.pointer\n",
    "            \n",
    "        \n",
    "    def remove_value(self, data):\n",
    "        itr = self.head\n",
    "        while itr:\n",
    "            if(itr.pointer.ndata == data):\n",
    "                itr.pointer = itr.pointer.pointer\n",
    "                break\n",
    "            itr = itr.pointer\n",
    "    \n",
    "    def get_length(self):\n",
    "        counter = 0\n",
    "        itr = self.head\n",
    "        while itr:\n",
    "            counter += 1\n",
    "            itr = itr.pointer\n",
    "        return(counter)           \n",
    "            \n",
    "        \n",
    "        \n",
    "    def llprint(self):\n",
    "        if self.head is None:\n",
    "            print(\"Linked List is empty\")\n",
    "            return\n",
    "        itr = self.head\n",
    "        llist = \"\"\n",
    "        while itr:\n",
    "            llist += str(itr.ndata) + \"-->\"\n",
    "            itr = itr.pointer\n",
    "        print(llist)\n",
    "        \n",
    "        \n",
    "    def insert_after_value(self, data_after, data_insert):\n",
    "        if self.head == None:\n",
    "            self.insert_at_begining(data_insert)\n",
    "            return\n",
    "        \n",
    "        itr = self.head\n",
    "        while itr:\n",
    "            if(data_after == itr.ndata):\n",
    "                node = Node(data_insert, itr.pointer)\n",
    "                itr.pointer = node\n",
    "                break\n",
    "            itr = itr.pointer\n",
    "            \n",
    "            \n",
    "\n",
    "if __name__ == \"__main__\":\n",
    "    ll = LinkedList()\n",
    "    \n",
    "    ll.insert_at_begining(4)\n",
    "    ll.insert_at_begining(\"hhhh\")\n",
    "    ll.insert_at_begining(7)\n",
    "    ll.llprint()"
   ]
  },
  {
   "cell_type": "code",
   "execution_count": 66,
   "id": "b8457cdf",
   "metadata": {},
   "outputs": [],
   "source": [
    "ll.insert_at_begining(5)"
   ]
  },
  {
   "cell_type": "code",
   "execution_count": 67,
   "id": "34724470",
   "metadata": {},
   "outputs": [
    {
     "name": "stdout",
     "output_type": "stream",
     "text": [
      "5-->7-->hhhh-->4-->\n"
     ]
    }
   ],
   "source": [
    "ll.llprint()"
   ]
  },
  {
   "cell_type": "code",
   "execution_count": 68,
   "id": "0d173120",
   "metadata": {
    "scrolled": true
   },
   "outputs": [
    {
     "name": "stdout",
     "output_type": "stream",
     "text": [
      "77-->dkjfs-->5-->7-->hhhh-->4-->\n"
     ]
    }
   ],
   "source": [
    "ll.insert_at_begining(\"dkjfs\")\n",
    "ll.insert_at_begining(77)\n",
    "ll.llprint()"
   ]
  },
  {
   "cell_type": "code",
   "execution_count": 69,
   "id": "dfc7950d",
   "metadata": {},
   "outputs": [],
   "source": [
    "ll.insert_at_end(9)"
   ]
  },
  {
   "cell_type": "code",
   "execution_count": 70,
   "id": "cab28c4e",
   "metadata": {},
   "outputs": [
    {
     "name": "stdout",
     "output_type": "stream",
     "text": [
      "77-->dkjfs-->5-->7-->hhhh-->4-->9-->\n"
     ]
    }
   ],
   "source": [
    "ll.llprint()"
   ]
  },
  {
   "cell_type": "code",
   "execution_count": 71,
   "id": "75f8e2cf",
   "metadata": {},
   "outputs": [],
   "source": [
    "ll.insert_values([1, 2, 3, 4, 5])"
   ]
  },
  {
   "cell_type": "code",
   "execution_count": 72,
   "id": "e86b69d7",
   "metadata": {},
   "outputs": [
    {
     "name": "stdout",
     "output_type": "stream",
     "text": [
      "1-->2-->3-->4-->5-->\n"
     ]
    }
   ],
   "source": [
    "ll.llprint()"
   ]
  },
  {
   "cell_type": "code",
   "execution_count": 73,
   "id": "92ae5304",
   "metadata": {},
   "outputs": [
    {
     "data": {
      "text/plain": [
       "5"
      ]
     },
     "execution_count": 73,
     "metadata": {},
     "output_type": "execute_result"
    }
   ],
   "source": [
    "ll.get_length()"
   ]
  },
  {
   "cell_type": "code",
   "execution_count": 74,
   "id": "88cc698b",
   "metadata": {},
   "outputs": [],
   "source": [
    "ll.remove_at(2)"
   ]
  },
  {
   "cell_type": "code",
   "execution_count": 75,
   "id": "da6c4f86",
   "metadata": {},
   "outputs": [
    {
     "name": "stdout",
     "output_type": "stream",
     "text": [
      "1-->2-->4-->5-->\n"
     ]
    }
   ],
   "source": [
    "ll.llprint()"
   ]
  },
  {
   "cell_type": "code",
   "execution_count": 76,
   "id": "1fabbc57",
   "metadata": {},
   "outputs": [
    {
     "ename": "Exception",
     "evalue": "Invalid index",
     "output_type": "error",
     "traceback": [
      "\u001b[1;31m---------------------------------------------------------------------------\u001b[0m",
      "\u001b[1;31mException\u001b[0m                                 Traceback (most recent call last)",
      "\u001b[1;32m~\\AppData\\Local\\Temp/ipykernel_12952/167406597.py\u001b[0m in \u001b[0;36m<module>\u001b[1;34m\u001b[0m\n\u001b[1;32m----> 1\u001b[1;33m \u001b[0mll\u001b[0m\u001b[1;33m.\u001b[0m\u001b[0mremove_at\u001b[0m\u001b[1;33m(\u001b[0m\u001b[1;36m8\u001b[0m\u001b[1;33m)\u001b[0m\u001b[1;33m\u001b[0m\u001b[1;33m\u001b[0m\u001b[0m\n\u001b[0m",
      "\u001b[1;32m~\\AppData\\Local\\Temp/ipykernel_12952/1221996726.py\u001b[0m in \u001b[0;36mremove_at\u001b[1;34m(self, index)\u001b[0m\n\u001b[0;32m     47\u001b[0m     \u001b[1;32mdef\u001b[0m \u001b[0mremove_at\u001b[0m\u001b[1;33m(\u001b[0m\u001b[0mself\u001b[0m\u001b[1;33m,\u001b[0m \u001b[0mindex\u001b[0m\u001b[1;33m)\u001b[0m\u001b[1;33m:\u001b[0m\u001b[1;33m\u001b[0m\u001b[1;33m\u001b[0m\u001b[0m\n\u001b[0;32m     48\u001b[0m         \u001b[1;32mif\u001b[0m \u001b[0mindex\u001b[0m \u001b[1;33m<\u001b[0m \u001b[1;36m0\u001b[0m \u001b[1;32mor\u001b[0m \u001b[0mindex\u001b[0m \u001b[1;33m>=\u001b[0m \u001b[0mself\u001b[0m\u001b[1;33m.\u001b[0m\u001b[0mget_length\u001b[0m\u001b[1;33m(\u001b[0m\u001b[1;33m)\u001b[0m\u001b[1;33m:\u001b[0m\u001b[1;33m\u001b[0m\u001b[1;33m\u001b[0m\u001b[0m\n\u001b[1;32m---> 49\u001b[1;33m             \u001b[1;32mraise\u001b[0m \u001b[0mException\u001b[0m\u001b[1;33m(\u001b[0m\u001b[1;34m\"Invalid index\"\u001b[0m\u001b[1;33m)\u001b[0m\u001b[1;33m\u001b[0m\u001b[1;33m\u001b[0m\u001b[0m\n\u001b[0m\u001b[0;32m     50\u001b[0m         \u001b[1;32mif\u001b[0m \u001b[0mindex\u001b[0m \u001b[1;33m==\u001b[0m \u001b[1;36m0\u001b[0m\u001b[1;33m:\u001b[0m\u001b[1;33m\u001b[0m\u001b[1;33m\u001b[0m\u001b[0m\n\u001b[0;32m     51\u001b[0m             \u001b[0mself\u001b[0m\u001b[1;33m.\u001b[0m\u001b[0mhead\u001b[0m \u001b[1;33m=\u001b[0m \u001b[0mself\u001b[0m\u001b[1;33m.\u001b[0m\u001b[0mhead\u001b[0m\u001b[1;33m.\u001b[0m\u001b[0mpointer\u001b[0m\u001b[1;33m\u001b[0m\u001b[1;33m\u001b[0m\u001b[0m\n",
      "\u001b[1;31mException\u001b[0m: Invalid index"
     ]
    }
   ],
   "source": [
    "ll.remove_at(8)"
   ]
  },
  {
   "cell_type": "code",
   "execution_count": 77,
   "id": "91b038a3",
   "metadata": {},
   "outputs": [],
   "source": [
    "ll.insert_at(2, \"new data\")"
   ]
  },
  {
   "cell_type": "code",
   "execution_count": 78,
   "id": "f5839eeb",
   "metadata": {},
   "outputs": [
    {
     "name": "stdout",
     "output_type": "stream",
     "text": [
      "1-->2-->new data-->4-->5-->\n"
     ]
    }
   ],
   "source": [
    "ll.llprint()"
   ]
  },
  {
   "cell_type": "code",
   "execution_count": 79,
   "id": "23e34f6f",
   "metadata": {},
   "outputs": [
    {
     "data": {
      "text/plain": [
       "5"
      ]
     },
     "execution_count": 79,
     "metadata": {},
     "output_type": "execute_result"
    }
   ],
   "source": [
    "ll.get_length()"
   ]
  },
  {
   "cell_type": "code",
   "execution_count": 80,
   "id": "ff118d37",
   "metadata": {},
   "outputs": [],
   "source": [
    "ll.insert_after_value(2, \"ne\")"
   ]
  },
  {
   "cell_type": "code",
   "execution_count": 81,
   "id": "02938369",
   "metadata": {},
   "outputs": [
    {
     "name": "stdout",
     "output_type": "stream",
     "text": [
      "1-->2-->ne-->new data-->4-->5-->\n"
     ]
    }
   ],
   "source": [
    "ll.llprint()"
   ]
  },
  {
   "cell_type": "code",
   "execution_count": 82,
   "id": "d3d00bd7",
   "metadata": {},
   "outputs": [
    {
     "name": "stdout",
     "output_type": "stream",
     "text": [
      "1-->2-->new data-->4-->5-->\n"
     ]
    }
   ],
   "source": [
    "ll.remove_value(\"ne\")\n",
    "ll.llprint()"
   ]
  },
  {
   "cell_type": "code",
   "execution_count": 83,
   "id": "2df7da42",
   "metadata": {},
   "outputs": [
    {
     "name": "stdout",
     "output_type": "stream",
     "text": [
      "1-->2-->4-->5-->\n"
     ]
    }
   ],
   "source": [
    "ll.remove_value(\"new data\")\n",
    "ll.llprint()"
   ]
  },
  {
   "cell_type": "markdown",
   "id": "74da058d",
   "metadata": {},
   "source": [
    "## Double/Doubley Linked List"
   ]
  },
  {
   "cell_type": "code",
   "execution_count": 97,
   "id": "025f6fc7",
   "metadata": {},
   "outputs": [],
   "source": [
    "class Node:\n",
    "    def __init__(self, pre_node=None, data=None, next_node=None):\n",
    "        self.pre_node = pre_node\n",
    "        self.data = data\n",
    "        self.next_node = next_node\n",
    "        \n",
    "class Doubly_Linked_List:\n",
    "    def __init__(self):\n",
    "        self.head = None\n",
    "    \n",
    "    def insert_at_beginig(self, data):\n",
    "        if self.head == None:\n",
    "            node = Node(None, data, None)\n",
    "            self.head = node\n",
    "        self.head.pre_node = Node(None, data, self.h)\n",
    "    \n",
    "    def lprint(self):\n",
    "        if self.head == None:\n",
    "            return(\"List is empty\")\n",
    "        \n",
    "        itr = self.head\n",
    "        temp = \"\"\n",
    "        while itr:\n",
    "            temp += str(itr.data) + \"-->\"\n",
    "            itr = itr.next_node\n",
    "        return(temp)"
   ]
  },
  {
   "cell_type": "code",
   "execution_count": 98,
   "id": "d540c89d",
   "metadata": {},
   "outputs": [],
   "source": [
    "dl = Doubly_Linked_List()"
   ]
  },
  {
   "cell_type": "code",
   "execution_count": 99,
   "id": "919e886b",
   "metadata": {},
   "outputs": [
    {
     "data": {
      "text/plain": [
       "'List is empty'"
      ]
     },
     "execution_count": 99,
     "metadata": {},
     "output_type": "execute_result"
    }
   ],
   "source": [
    "dl.lprint()"
   ]
  },
  {
   "cell_type": "code",
   "execution_count": 100,
   "id": "97edb3d6",
   "metadata": {},
   "outputs": [
    {
     "data": {
      "text/plain": [
       "'5-->'"
      ]
     },
     "execution_count": 100,
     "metadata": {},
     "output_type": "execute_result"
    }
   ],
   "source": [
    "dl.insert_at_beginig(5)\n",
    "dl.lprint()"
   ]
  },
  {
   "cell_type": "code",
   "execution_count": 101,
   "id": "328ad29b",
   "metadata": {},
   "outputs": [
    {
     "data": {
      "text/plain": [
       "'5-->'"
      ]
     },
     "execution_count": 101,
     "metadata": {},
     "output_type": "execute_result"
    }
   ],
   "source": [
    "dl.insert_at_beginig(7)\n",
    "dl.lprint()"
   ]
  },
  {
   "cell_type": "code",
   "execution_count": null,
   "id": "1044906b",
   "metadata": {},
   "outputs": [],
   "source": []
  },
  {
   "cell_type": "code",
   "execution_count": null,
   "id": "3e7b2e37",
   "metadata": {},
   "outputs": [],
   "source": []
  }
 ],
 "metadata": {
  "kernelspec": {
   "display_name": "Python 3 (ipykernel)",
   "language": "python",
   "name": "python3"
  },
  "language_info": {
   "codemirror_mode": {
    "name": "ipython",
    "version": 3
   },
   "file_extension": ".py",
   "mimetype": "text/x-python",
   "name": "python",
   "nbconvert_exporter": "python",
   "pygments_lexer": "ipython3",
   "version": "3.9.7"
  }
 },
 "nbformat": 4,
 "nbformat_minor": 5
}
