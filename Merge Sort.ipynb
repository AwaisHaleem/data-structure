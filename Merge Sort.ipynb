{
 "cells": [
  {
   "cell_type": "markdown",
   "id": "c231697e",
   "metadata": {},
   "source": [
    "# <center> Merge Sort</center>"
   ]
  },
  {
   "cell_type": "markdown",
   "id": "8a4683f2",
   "metadata": {},
   "source": [
    "- Divide and conqure approach\n",
    "- Unsorted list is divided into N sublist, each having one element\n",
    "- A list having one element is always a sorted list\n",
    "- Then, it repeatedly merge sorted sub-lists to produce new sorted sub-lists, and at last one sorted list is produced\n",
    "- O(nlogn)"
   ]
  },
  {
   "cell_type": "code",
   "execution_count": 11,
   "id": "ca2a8c01",
   "metadata": {},
   "outputs": [],
   "source": [
    "def merge_two_sorted_lists(a, b):\n",
    "    sorted_list = []\n",
    "    len_a = len(a)\n",
    "    len_b = len(b)\n",
    "    i = j = 0\n",
    "    \n",
    "    while i<len_a and j<len_b:\n",
    "        if a[i]<=b[j]:\n",
    "            sorted_list.append(a[i])\n",
    "            i+=1\n",
    "        else:\n",
    "            sorted_list.append(b[j])\n",
    "            j+=1\n",
    "            \n",
    "    while i<len_a:\n",
    "        sorted_list.append(a[i])\n",
    "        i+=1\n",
    "        \n",
    "    while j<len_b:\n",
    "        sorted_list.append(b[j])\n",
    "        j+=1\n",
    "    \n",
    "    return sorted_list\n",
    "\n",
    "\n",
    "def mergeSort(arr):\n",
    "    if len(arr) <=1:\n",
    "        return arr\n",
    "    mid = len(arr)//2\n",
    "    left = arr[:mid]\n",
    "    right = arr[mid:]\n",
    "    \n",
    "    left = mergeSort(left)\n",
    "    right = mergeSort(right)\n",
    "    \n",
    "    return merge_two_sorted_lists(left, right)"
   ]
  },
  {
   "cell_type": "code",
   "execution_count": 12,
   "id": "45394c90",
   "metadata": {},
   "outputs": [
    {
     "data": {
      "text/plain": [
       "[2, 3, 5, 29, 33, 55, 88, 99]"
      ]
     },
     "execution_count": 12,
     "metadata": {},
     "output_type": "execute_result"
    }
   ],
   "source": [
    "mergeSort([29, 5, 2, 3, 55, 33, 88, 99])"
   ]
  },
  {
   "cell_type": "code",
   "execution_count": 13,
   "id": "6c089765",
   "metadata": {},
   "outputs": [],
   "source": [
    "# optimal solution\n",
    "\n",
    "def merge_two_sorted_lists(a, b, arr):\n",
    "    sorted_list = []\n",
    "    len_a = len(a)\n",
    "    len_b = len(b)\n",
    "    i = j = k = 0\n",
    "    \n",
    "    while i<len_a and j<len_b:\n",
    "        if a[i]<=b[j]:\n",
    "            arr[k] = a[i]\n",
    "            i+=1\n",
    "        else:\n",
    "            arr[k] = b[j]\n",
    "            j+=1\n",
    "        k+=1\n",
    "        \n",
    "    while i<len_a:\n",
    "        arr[k] = a[i]\n",
    "        i+=1\n",
    "        k+=1\n",
    "        \n",
    "    while j<len_b:\n",
    "        arr[k] = b[j]\n",
    "        j+=1\n",
    "    \n",
    "    return sorted_list\n",
    "\n",
    "\n",
    "def mergeSort(arr):\n",
    "    if len(arr) <=1:\n",
    "        return arr\n",
    "    \n",
    "    mid = len(arr)//2\n",
    "    left = arr[:mid]\n",
    "    right = arr[mid:]\n",
    "    \n",
    "    mergeSort(left)\n",
    "    mergeSort(right)\n",
    "    \n",
    "    merge_two_sorted_lists(left, right, arr)"
   ]
  },
  {
   "cell_type": "code",
   "execution_count": 15,
   "id": "c14d3622",
   "metadata": {},
   "outputs": [
    {
     "data": {
      "text/plain": [
       "[2, 3, 5, 29, 99, 33, 88, 99]"
      ]
     },
     "execution_count": 15,
     "metadata": {},
     "output_type": "execute_result"
    }
   ],
   "source": [
    "a = [29, 5, 2, 3, 55, 33, 88, 99]\n",
    "mergeSort(a)\n",
    "a"
   ]
  },
  {
   "cell_type": "code",
   "execution_count": null,
   "id": "d60dfa40",
   "metadata": {},
   "outputs": [],
   "source": []
  }
 ],
 "metadata": {
  "kernelspec": {
   "display_name": "Python 3 (ipykernel)",
   "language": "python",
   "name": "python3"
  },
  "language_info": {
   "codemirror_mode": {
    "name": "ipython",
    "version": 3
   },
   "file_extension": ".py",
   "mimetype": "text/x-python",
   "name": "python",
   "nbconvert_exporter": "python",
   "pygments_lexer": "ipython3",
   "version": "3.9.7"
  }
 },
 "nbformat": 4,
 "nbformat_minor": 5
}
