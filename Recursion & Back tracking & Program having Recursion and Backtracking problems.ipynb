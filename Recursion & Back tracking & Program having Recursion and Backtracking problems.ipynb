{
 "cells": [
  {
   "cell_type": "markdown",
   "id": "9e05616c",
   "metadata": {},
   "source": [
    " # <center> Recursion and Backtracking<center>"
   ]
  },
  {
   "cell_type": "markdown",
   "id": "49517778",
   "metadata": {},
   "source": [
    "# Recursion"
   ]
  },
  {
   "cell_type": "markdown",
   "id": "19fb110f",
   "metadata": {},
   "source": [
    "- Recursion is when a function calls itself\n",
    "- Any function that calls itself is called recursive\n",
    "- Every time the fucntion calls itself on slightly simpler version of the original problem\n",
    "- It is importan that recursion terminates\n",
    "- Recurtion terminates when base case is reached\n",
    "- Recursive code is generally shorter and easier to write than iterative code\n",
    "- Solution of some recursive problem is easier to solve recursively\n"
   ]
  },
  {
   "cell_type": "markdown",
   "id": "04da0e6a",
   "metadata": {},
   "source": [
    "## Factorial with iteration"
   ]
  },
  {
   "cell_type": "code",
   "execution_count": 8,
   "id": "05f1a416",
   "metadata": {},
   "outputs": [
    {
     "data": {
      "text/plain": [
       "120"
      ]
     },
     "execution_count": 8,
     "metadata": {},
     "output_type": "execute_result"
    }
   ],
   "source": [
    "def fac(n):\n",
    "    facto = 1\n",
    "    for i in range(n):\n",
    "        facto = facto * (i+1)\n",
    "    return facto\n",
    "fac(5)\n",
    "        "
   ]
  },
  {
   "cell_type": "markdown",
   "id": "cb615b2b",
   "metadata": {},
   "source": [
    "## Factorial with Recursion"
   ]
  },
  {
   "cell_type": "code",
   "execution_count": 2,
   "id": "1054d634",
   "metadata": {},
   "outputs": [
    {
     "data": {
      "text/plain": [
       "120"
      ]
     },
     "execution_count": 2,
     "metadata": {},
     "output_type": "execute_result"
    }
   ],
   "source": [
    "def fac(n):\n",
    "    facto = 1\n",
    "    if(n==1):\n",
    "        return 1\n",
    "    facto *= n * fac(n-1)\n",
    "    return facto\n",
    "fac(5)"
   ]
  },
  {
   "cell_type": "markdown",
   "id": "abdd5fa7",
   "metadata": {},
   "source": [
    "## Fibonacci Series"
   ]
  },
  {
   "cell_type": "markdown",
   "id": "ccd07c9b",
   "metadata": {},
   "source": [
    "#### Find the fibonacci number with index"
   ]
  },
  {
   "cell_type": "code",
   "execution_count": 9,
   "id": "8e274bec",
   "metadata": {},
   "outputs": [
    {
     "data": {
      "text/plain": [
       "13"
      ]
     },
     "execution_count": 9,
     "metadata": {},
     "output_type": "execute_result"
    }
   ],
   "source": [
    "def fib(n):\n",
    "    if(n<=2):\n",
    "        return 1\n",
    "    fib_no = (fib(n-1) + fib(n-2))\n",
    "    return fib_no\n",
    "fib(7)"
   ]
  },
  {
   "cell_type": "markdown",
   "id": "255a2a2a",
   "metadata": {},
   "source": [
    "#### Find ficonacci number's total to an index"
   ]
  },
  {
   "cell_type": "code",
   "execution_count": 18,
   "id": "4459d4d7",
   "metadata": {},
   "outputs": [
    {
     "data": {
      "text/plain": [
       "7"
      ]
     },
     "execution_count": 18,
     "metadata": {},
     "output_type": "execute_result"
    }
   ],
   "source": [
    "def fib_total(n):\n",
    "    fib_to = 0\n",
    "    for i in range(n):\n",
    "        if(n<=2):\n",
    "            fib_to = fib_to + 1\n",
    "        else:\n",
    "            fib_no = fib(n-1) + fib(n-2)\n",
    "            fib_to = fib_to + fib_no\n",
    "        n = n - 1\n",
    "    return fib_to\n",
    "fib_total(4)"
   ]
  },
  {
   "cell_type": "markdown",
   "id": "541f42e2",
   "metadata": {},
   "source": [
    "## Greatest Common Divisor"
   ]
  },
  {
   "cell_type": "code",
   "execution_count": 15,
   "id": "315a0763",
   "metadata": {},
   "outputs": [
    {
     "data": {
      "text/plain": [
       "7"
      ]
     },
     "execution_count": 15,
     "metadata": {},
     "output_type": "execute_result"
    }
   ],
   "source": [
    "def gcd(a, b):\n",
    "    if(a==b):\n",
    "        return a\n",
    "    if(a%b==0):\n",
    "        return b\n",
    "    if(b%a==0):\n",
    "        return a\n",
    "    if(a>b):\n",
    "        return gcd(a%b, b)\n",
    "    else:\n",
    "        return gcd(a, b%a)\n",
    "gcd(105, 91)\n",
    "    "
   ]
  },
  {
   "cell_type": "markdown",
   "id": "89ba58c6",
   "metadata": {},
   "source": [
    "# Backtracking"
   ]
  },
  {
   "cell_type": "markdown",
   "id": "1ca67634",
   "metadata": {},
   "source": [
    "- A technique based on algorithm to solve problem\n",
    "- It uses recursive calling to find a solution by building a solution step by step increasing values\n",
    "    by time\n",
    "- The method of exhastive search using divide & coqure rule\n",
    "- Sometimes best algorithm to find a problem is to try all possible solutions\n",
    "- very slow"
   ]
  },
  {
   "cell_type": "markdown",
   "id": "7d2a72cc",
   "metadata": {},
   "source": [
    "### All permutation of a String"
   ]
  },
  {
   "cell_type": "code",
   "execution_count": 18,
   "id": "6da91454",
   "metadata": {},
   "outputs": [
    {
     "name": "stdout",
     "output_type": "stream",
     "text": [
      "1 abc\n",
      "2 abc\n",
      "3 abc\n",
      "4 abc\n",
      "5 abc\n",
      "6 abc\n"
     ]
    }
   ],
   "source": [
    "def swap(string, x, y):\n",
    "    temp = list(string)\n",
    "    temp[x], temp[y] = temp[y], temp[x]\n",
    "    return \"\".join(temp)\n",
    "    \n",
    "\n",
    "count = 0\n",
    "\n",
    "def permutation(strng, initial_index, last_index):\n",
    "    \n",
    "    \n",
    "    if(initial_index == last_index):\n",
    "        global count\n",
    "        count += 1\n",
    "        print(count, strng)\n",
    "    else:\n",
    "        j = initial_index\n",
    "        while(j <= last_index):\n",
    "            swap(strng, last_index, j)\n",
    "            permutation(strng, (initial_index+1), last_index)\n",
    "            swap(strng, last_index, j)\n",
    "            j += 1\n",
    "\n",
    "permutation(\"abc\", 0, 2)\n",
    "            "
   ]
  },
  {
   "cell_type": "code",
   "execution_count": 14,
   "id": "f9e969f0",
   "metadata": {},
   "outputs": [
    {
     "name": "stdout",
     "output_type": "stream",
     "text": [
      "ABC\n",
      "ACB\n",
      "BAC\n",
      "BCA\n",
      "CBA\n",
      "CAB\n"
     ]
    }
   ],
   "source": [
    "def toString(a):\n",
    "    return \"\".join(a)\n",
    "\n",
    "\n",
    "def permutation(chars, i, l):\n",
    "    if(i == l):\n",
    "        print(toString(chars))\n",
    "    else:\n",
    "        for x in range(i,l+1):            \n",
    "            a[i], a[x] = a[x], a[i]\n",
    "            permute(a, i+1, l)\n",
    "            a[i], a[x] = a[x], a[i] # backtrack\n",
    "            \n",
    "def stringPermutation(string):\n",
    "    characters = list(string)\n",
    "    initial_id = 0;\n",
    "    last_id = len(characters) - 1\n",
    "    permutation(characters, initial_id, last_id)\n",
    "    \n",
    "stringPermutation(\"abc\")"
   ]
  },
  {
   "cell_type": "markdown",
   "id": "1b3172ac",
   "metadata": {},
   "source": [
    "### Printing all binary values of length n"
   ]
  },
  {
   "cell_type": "code",
   "execution_count": 38,
   "id": "005f879d",
   "metadata": {},
   "outputs": [
    {
     "name": "stdout",
     "output_type": "stream",
     "text": [
      "000000\n",
      "100000\n",
      "010000\n",
      "110000\n",
      "001000\n",
      "101000\n",
      "011000\n",
      "111000\n",
      "000100\n",
      "100100\n",
      "010100\n",
      "110100\n",
      "001100\n",
      "101100\n",
      "011100\n",
      "111100\n",
      "000010\n",
      "100010\n",
      "010010\n",
      "110010\n",
      "001010\n",
      "101010\n",
      "011010\n",
      "111010\n",
      "000110\n",
      "100110\n",
      "010110\n",
      "110110\n",
      "001110\n",
      "101110\n",
      "011110\n",
      "111110\n",
      "000001\n",
      "100001\n",
      "010001\n",
      "110001\n",
      "001001\n",
      "101001\n",
      "011001\n",
      "111001\n",
      "000101\n",
      "100101\n",
      "010101\n",
      "110101\n",
      "001101\n",
      "101101\n",
      "011101\n",
      "111101\n",
      "000011\n",
      "100011\n",
      "010011\n",
      "110011\n",
      "001011\n",
      "101011\n",
      "011011\n",
      "111011\n",
      "000111\n",
      "100111\n",
      "010111\n",
      "110111\n",
      "001111\n",
      "101111\n",
      "011111\n",
      "111111\n"
     ]
    }
   ],
   "source": [
    "def bin(n, lst):\n",
    "    if(n < 1): \n",
    "        tem = list(map(str, lst))\n",
    "        print(\"\".join(tem))\n",
    "    else:\n",
    "        lst[n-1] = 0\n",
    "        bin(n-1, lst)\n",
    "        lst[n-1] = 1\n",
    "        bin(n-1, lst)\n",
    "\n",
    "    \n",
    "def binString(n):\n",
    "    bin(n, [0]*n)\n",
    "    \n",
    "binString(6)"
   ]
  },
  {
   "cell_type": "code",
   "execution_count": 35,
   "id": "17483e80",
   "metadata": {},
   "outputs": [
    {
     "data": {
      "text/plain": [
       "'[0, 1, 2, 3]'"
      ]
     },
     "execution_count": 35,
     "metadata": {},
     "output_type": "execute_result"
    }
   ],
   "source": [
    "str(list(range(4)))"
   ]
  },
  {
   "cell_type": "code",
   "execution_count": 28,
   "id": "e674021b",
   "metadata": {},
   "outputs": [
    {
     "data": {
      "text/plain": [
       "['abc']"
      ]
     },
     "execution_count": 28,
     "metadata": {},
     "output_type": "execute_result"
    }
   ],
   "source": [
    "a.split(',')"
   ]
  },
  {
   "cell_type": "code",
   "execution_count": 30,
   "id": "b6613e75",
   "metadata": {},
   "outputs": [
    {
     "name": "stdout",
     "output_type": "stream",
     "text": [
      "['A', 'B', 'C', 'D']\n"
     ]
    }
   ],
   "source": [
    "def Convert(string):\n",
    "    list1=[]\n",
    "    list1[:0]=string\n",
    "    return list1\n",
    "# Driver code\n",
    "str1=\"ABCD\"\n",
    "print(Convert(str1))"
   ]
  },
  {
   "cell_type": "code",
   "execution_count": 33,
   "id": "6f27a453",
   "metadata": {},
   "outputs": [],
   "source": [
    "b = []"
   ]
  },
  {
   "cell_type": "code",
   "execution_count": 39,
   "id": "b5acfafd",
   "metadata": {},
   "outputs": [],
   "source": [
    "b[:0] = \"abc\""
   ]
  },
  {
   "cell_type": "code",
   "execution_count": 40,
   "id": "dcb5bd29",
   "metadata": {},
   "outputs": [
    {
     "data": {
      "text/plain": [
       "['a', 'b', 'c', 'a', 'b', 'c', 'a', 'b', 'c']"
      ]
     },
     "execution_count": 40,
     "metadata": {},
     "output_type": "execute_result"
    }
   ],
   "source": [
    "b"
   ]
  },
  {
   "cell_type": "code",
   "execution_count": 43,
   "id": "e0979fa9",
   "metadata": {},
   "outputs": [
    {
     "data": {
      "text/plain": [
       "['a', 'b', 'c', 'a', 'b', 'c', 'a', 'b', 'c']"
      ]
     },
     "execution_count": 43,
     "metadata": {},
     "output_type": "execute_result"
    }
   ],
   "source": [
    "b"
   ]
  },
  {
   "cell_type": "code",
   "execution_count": 48,
   "id": "5f873f77",
   "metadata": {},
   "outputs": [
    {
     "data": {
      "text/plain": [
       "'abcabcabc'"
      ]
     },
     "execution_count": 48,
     "metadata": {},
     "output_type": "execute_result"
    }
   ],
   "source": [
    "\"\".join(b)"
   ]
  },
  {
   "cell_type": "code",
   "execution_count": null,
   "id": "f03244d5",
   "metadata": {},
   "outputs": [],
   "source": []
  }
 ],
 "metadata": {
  "kernelspec": {
   "display_name": "Python 3 (ipykernel)",
   "language": "python",
   "name": "python3"
  },
  "language_info": {
   "codemirror_mode": {
    "name": "ipython",
    "version": 3
   },
   "file_extension": ".py",
   "mimetype": "text/x-python",
   "name": "python",
   "nbconvert_exporter": "python",
   "pygments_lexer": "ipython3",
   "version": "3.9.7"
  }
 },
 "nbformat": 4,
 "nbformat_minor": 5
}
