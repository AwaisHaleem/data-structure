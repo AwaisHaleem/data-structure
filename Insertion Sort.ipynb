{
 "cells": [
  {
   "cell_type": "markdown",
   "id": "5828a462",
   "metadata": {},
   "source": [
    "# <center> Insertion Sort</center>"
   ]
  },
  {
   "cell_type": "markdown",
   "id": "66974c51",
   "metadata": {},
   "source": [
    "- O(n) in Best Case\n",
    "- O(n<sup>2</sup>) average case"
   ]
  },
  {
   "cell_type": "code",
   "execution_count": 9,
   "id": "3bcc6fa1",
   "metadata": {},
   "outputs": [],
   "source": [
    "def insertionSort(arr):\n",
    "    for i in range(1, len(arr)):\n",
    "        if arr[i] < arr[i-1]:\n",
    "            for j in range(i-1, -1, -1):\n",
    "                \n",
    "                if arr[i] < arr[j]:\n",
    "                    arr[i], arr[j] = arr[j], arr[i]\n",
    "                    i = j\n",
    "    return arr"
   ]
  },
  {
   "cell_type": "code",
   "execution_count": 10,
   "id": "dc677d5e",
   "metadata": {},
   "outputs": [
    {
     "data": {
      "text/plain": [
       "[1, 2, 3, 5, 7, 8, 22]"
      ]
     },
     "execution_count": 10,
     "metadata": {},
     "output_type": "execute_result"
    }
   ],
   "source": [
    "insertionSort([22, 3, 5, 7, 8, 2, 1])"
   ]
  },
  {
   "cell_type": "code",
   "execution_count": 11,
   "id": "f1fc2b51",
   "metadata": {},
   "outputs": [
    {
     "data": {
      "text/plain": [
       "[1, 2, 3, 5, 7, 8, 22, 33, 33, 77, 88, 88]"
      ]
     },
     "execution_count": 11,
     "metadata": {},
     "output_type": "execute_result"
    }
   ],
   "source": [
    "insertionSort([22, 3, 5, 7, 8, 2, 1, 88, 33, 88, 33, 77])"
   ]
  },
  {
   "cell_type": "code",
   "execution_count": null,
   "id": "1cbc7b16",
   "metadata": {},
   "outputs": [],
   "source": []
  }
 ],
 "metadata": {
  "kernelspec": {
   "display_name": "Python 3 (ipykernel)",
   "language": "python",
   "name": "python3"
  },
  "language_info": {
   "codemirror_mode": {
    "name": "ipython",
    "version": 3
   },
   "file_extension": ".py",
   "mimetype": "text/x-python",
   "name": "python",
   "nbconvert_exporter": "python",
   "pygments_lexer": "ipython3",
   "version": "3.9.7"
  }
 },
 "nbformat": 4,
 "nbformat_minor": 5
}
